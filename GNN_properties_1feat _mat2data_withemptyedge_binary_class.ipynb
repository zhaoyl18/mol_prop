{
 "cells": [
  {
   "cell_type": "code",
   "execution_count": null,
   "id": "6e5939cb-44bc-4475-8e9e-d693603e1d25",
   "metadata": {},
   "outputs": [],
   "source": [
    "from argparse import ArgumentParser\n",
    "import warnings\n",
    "from typing import Callable, Union, List, Tuple, Dict, Sequence, Any\n",
    "from enum import Enum\n",
    "from itertools import product\n",
    "from collections import defaultdict\n",
    "\n",
    "import matplotlib.pyplot as plt\n",
    "import numpy as np\n",
    "import pandas as pd\n",
    "from torch import nn\n",
    "from torch import optim\n",
    "from torch_geometric.nn import GATConv, global_add_pool, GINEConv, GlobalAttention, JumpingKnowledge\n",
    "from torch_geometric.nn import global_mean_pool\n",
    "import torch\n",
    "import torch.nn.functional as F\n",
    "import torch_geometric\n",
    "import torchmetrics\n",
    "from torch.utils.data import Dataset\n",
    "import pytorch_lightning as L\n",
    "from pytorch_lightning.loggers import Logger\n",
    "from pytorch_lightning import Trainer\n",
    "from pytorch_lightning.callbacks import LearningRateMonitor, EarlyStopping, ModelCheckpoint\n",
    "from sklearn.model_selection import train_test_split\n",
    "from sklearn.preprocessing import StandardScaler\n",
    "import networkx as nx\n",
    "import rdkit.Chem\n",
    "from tqdm.contrib.concurrent import process_map\n",
    "from torch_geometric import nn as geo_nn\n",
    "from torch_geometric.data import Data, DataLoader\n",
    "from torch.autograd import grad"
   ]
  },
  {
   "cell_type": "code",
   "execution_count": null,
   "id": "35003660",
   "metadata": {},
   "outputs": [],
   "source": [
    "import os\n",
    "\n",
    "# Set CUDA_VISIBLE_DEVICES to the 5th GPU (index 4, since indexing starts at 0)\n",
    "os.environ[\"CUDA_VISIBLE_DEVICES\"] = \"4,5\"\n",
    "\n",
    "DEVICE = torch.device(\"cuda\" if torch.cuda.is_available() else \"cpu\")\n",
    "\n",
    "print(\"Using device:\", DEVICE)"
   ]
  },
  {
   "cell_type": "markdown",
   "id": "04552d89-7c98-4a37-a729-f4ec631a8b39",
   "metadata": {},
   "source": [
    "# define all the necessary modulesdefaultdict"
   ]
  },
  {
   "cell_type": "code",
   "execution_count": null,
   "id": "1bbc641f-1140-40ec-b256-15a964792265",
   "metadata": {},
   "outputs": [],
   "source": [
    "class GNEPropTask(Enum):\n",
    "    BINARY_CLASSIFICATION = 'binary_classification'\n",
    "    REGRESSION = 'regression'\n",
    "    MULTI_CLASSIFICATION = 'multi_classification'\n",
    "\n",
    "    def get_metrics(self) -> list[str]:\n",
    "        if self.value in ('binary_classification', 'multi_classification'):\n",
    "            return ['auc', 'ap', 'acc']\n",
    "        elif self.value == 'regression':\n",
    "            return ['mse', 'mae']\n",
    "\n",
    "    def get_default_metric(self) -> str:\n",
    "        if self.value in ('binary_classification', 'multi_classification'):\n",
    "            return 'auc'\n",
    "        elif self.value == 'regression':\n",
    "            return 'mse'\n",
    "\n",
    "    @staticmethod\n",
    "    def validation_names(m) -> Union[str, list[str]]:\n",
    "        if isinstance(m, str):\n",
    "            return 'val/' + m\n",
    "        elif isinstance(m, Sequence):\n",
    "            return ['val/' + i for i in m]\n",
    "\n",
    "\n",
    "class GNNMolEncoder(nn.Module):\n",
    "    def __init__(self, node_dim: int, edge_dim: int, hidden_dim_graph: int, hidden_dim_ffn: int, num_mp_layers: int,\n",
    "                 num_readout_layers: int,\n",
    "                 out_channels: int,\n",
    "                 dropout: float, aggr: str = 'mean', jk: str = 'cat'):\n",
    "        super().__init__()\n",
    "\n",
    "        # graph encoder\n",
    "        self.node_encoder = nn.Linear(node_dim, hidden_dim_graph)\n",
    "        self.edge_encoder = nn.Linear(edge_dim, hidden_dim_graph)\n",
    "\n",
    "        self.convs = nn.ModuleList()\n",
    "        for _ in range(num_mp_layers):\n",
    "            mlp = nn.Sequential(\n",
    "                nn.Linear(hidden_dim_graph, 2 * hidden_dim_graph),\n",
    "                nn.BatchNorm1d(2 * hidden_dim_graph),\n",
    "                nn.ReLU(inplace=True),\n",
    "                nn.Linear(2 * hidden_dim_graph, hidden_dim_graph),\n",
    "                nn.BatchNorm1d(hidden_dim_graph),\n",
    "                nn.ReLU(inplace=True),\n",
    "                nn.Dropout(p=dropout)\n",
    "            )\n",
    "            conv = GINEConv(mlp, train_eps=True)\n",
    "            self.convs.append(conv)\n",
    "\n",
    "        self.jk_mode = jk\n",
    "        if self.jk_mode == 'none':\n",
    "            self.jk = None\n",
    "        else:\n",
    "            self.jk = JumpingKnowledge(mode=self.jk_mode, channels=hidden_dim_graph, num_layers=num_mp_layers)\n",
    "\n",
    "        # global pooling\n",
    "        self.aggr = aggr\n",
    "        if aggr == 'mean':\n",
    "            self.global_pool = global_mean_pool\n",
    "        elif aggr == 'sum':\n",
    "            self.global_pool = global_add_pool\n",
    "\n",
    "        # classifier\n",
    "        self.classifier = nn.ModuleList()\n",
    "\n",
    "        if self.jk_mode == 'none':\n",
    "            hidden_channels_mol = hidden_dim_graph\n",
    "        elif self.jk_mode == 'cat':\n",
    "            hidden_channels_mol = hidden_dim_graph * (num_mp_layers + 1)\n",
    "        else:\n",
    "            raise NotImplementedError\n",
    "\n",
    "        for layer in range(num_readout_layers):\n",
    "            input_dim = hidden_channels_mol if layer == 0 else hidden_dim_ffn\n",
    "            mlp = nn.Sequential(\n",
    "                nn.Linear(input_dim, hidden_dim_ffn),\n",
    "                nn.BatchNorm1d(hidden_dim_ffn),\n",
    "                nn.ReLU(inplace=True),\n",
    "                nn.Dropout(p=dropout),\n",
    "            )\n",
    "            self.classifier.append(mlp)\n",
    "\n",
    "        # last layer (classifier)\n",
    "        input_dim_classifier = hidden_channels_mol if num_readout_layers == 0 else hidden_dim_ffn\n",
    "        self.classifier.append(nn.Linear(input_dim_classifier, out_channels), )\n",
    "\n",
    "    def compute_message_passing(self, data: torch_geometric.data.Data) -> torch.Tensor:\n",
    "        x, edge_index, edge_attr, batch = data.x, data.edge_index, data.edge_attr, data.batch\n",
    "\n",
    "        list_graph_encodings = []\n",
    "\n",
    "        x_encoded = self.node_encoder(x)\n",
    "        edge_attr = self.edge_encoder(edge_attr)\n",
    "\n",
    "        if self.jk_mode != 'none':\n",
    "            list_graph_encodings.append(x_encoded)\n",
    "        for conv in self.convs:\n",
    "            x_encoded = conv(x_encoded, edge_index, edge_attr)\n",
    "            if self.jk_mode != 'none':\n",
    "                list_graph_encodings.append(x_encoded)\n",
    "\n",
    "        if self.jk_mode != 'none':\n",
    "            x_encoded = self.jk(list_graph_encodings)\n",
    "\n",
    "        out = self.global_pool(x_encoded, batch)  # [batch_size, hidden_channels]\n",
    "        return out\n",
    "\n",
    "    def compute_readout(self, graph_repr: torch.Tensor, restrict_output_layers: int = 0) -> torch.Tensor:\n",
    "        out = graph_repr\n",
    "        for mlp in self.classifier[:None if restrict_output_layers == 0 else restrict_output_layers]:\n",
    "            out = mlp(out)\n",
    "        return out\n",
    "\n",
    "    def forward(self, data: torch_geometric.data.Data) -> torch.Tensor:\n",
    "        graph_repr = self.compute_message_passing(data)\n",
    "        out = self.compute_readout(graph_repr)\n",
    "        return out\n",
    "\n",
    "\n",
    "def predict_ensemble(list_checkpoints: list[str], data: Union[torch.utils.data.Dataset, torch.utils.data.DataLoader],\n",
    "                     aggr: str = 'mean',\n",
    "                     gpus: int = 1) -> tuple[np.ndarray, np.ndarray]:\n",
    "    # works only for single input\n",
    "    all_preds = []\n",
    "    for checkpoint in list_checkpoints:\n",
    "        print(f'Predicting checkpoint <{checkpoint}>...')\n",
    "        model = MoleculeModel.load_from_checkpoint(checkpoint)\n",
    "        preds = model.predict_data(data, gpus=gpus).flatten()\n",
    "        all_preds.append(preds)\n",
    "\n",
    "    all_res = np.stack(all_preds)  # n_ensemble x n_mols\n",
    "    if aggr == 'mean':\n",
    "        preds, epi_uncs = all_res.mean(axis=0), all_res.var(axis=0)\n",
    "    elif aggr == 'max':\n",
    "        preds, epi_uncs = all_res.max(axis=0), all_res.var(axis=0)\n",
    "    else:\n",
    "        raise ValueError\n",
    "\n",
    "    return preds, epi_uncs\n",
    "\n",
    "\n",
    "def predict_from_checkpoints(data: Union[str, torch.utils.data.Dataset, torch.utils.data.DataLoader],\n",
    "                             checkpoint_path: str = None, checkpoints_paths: list[str] = None,\n",
    "                             checkpoint_dir: str = None, aggr: str = 'mean', gpus: int = 1) -> tuple[\n",
    "    np.ndarray, np.ndarray]:\n",
    "    list_checkpoints = get_checkpoint_paths(checkpoint_path=checkpoint_path,\n",
    "                                            checkpoint_paths=checkpoints_paths,\n",
    "                                            checkpoint_dir=checkpoint_dir)\n",
    "    return predict_ensemble(list_checkpoints, data, aggr=aggr, gpus=gpus)\n",
    "\n",
    "\n",
    "\n",
    "\n",
    "class MoleculeModel(L.LightningModule):\n",
    "    def __init__(self, **kwargs):\n",
    "        super().__init__()\n",
    "\n",
    "        self.save_hyperparameters()\n",
    "\n",
    "        self.encoder = GNNMolEncoder(node_dim=self.hparams.node_dim,\n",
    "                                     edge_dim=self.hparams.edge_dim,\n",
    "                                     hidden_dim_graph=self.hparams.hidden_dim_graph,\n",
    "                                     hidden_dim_ffn=self.hparams.hidden_dim_ffn,\n",
    "                                     num_mp_layers=self.hparams.num_mp_layers,\n",
    "                                     num_readout_layers=self.hparams.num_readout_layers,\n",
    "                                     out_channels=self.hparams.out_channels,\n",
    "                                     dropout=self.hparams.dropout,\n",
    "                                     aggr=self.hparams.aggr,\n",
    "                                     jk=self.hparams.jk, )\n",
    "\n",
    "        self.task = GNEPropTask(self.hparams.task)\n",
    "        if self.task not in (GNEPropTask.BINARY_CLASSIFICATION,GNEPropTask.REGRESSION):\n",
    "            raise ValueError(f\"Unsupported task: {self.task}\")\n",
    "\n",
    "        self.loss_function = self.get_loss_func()\n",
    "\n",
    "        self.metrics = self.get_metrics()\n",
    "\n",
    "    def get_metrics(self) -> dict[str, Callable[[torch.tensor, torch.tensor], torch.tensor]]:\n",
    "        metrics = dict()\n",
    "        if self.task is GNEPropTask.BINARY_CLASSIFICATION:\n",
    "            metrics['auc'] = torchmetrics.classification.BinaryAUROC()\n",
    "            metrics['auprc'] = torchmetrics.classification.BinaryAveragePrecision()\n",
    "            metrics['accuracy'] = torchmetrics.classification.BinaryAccuracy()\n",
    "            metrics['precision'] = torchmetrics.classification.BinaryPrecision()\n",
    "            metrics['recall'] = torchmetrics.classification.BinaryRecall()\n",
    "        elif self.task is GNEPropTask.REGRESSION:\n",
    "            metrics['mse'] = torchmetrics.regression.MeanSquaredError(num_outputs=self.hparams.out_channels)\n",
    "            metrics['mae'] = torchmetrics.regression.MeanAbsoluteError()\n",
    "            metrics['r2'] = torchmetrics.regression.R2Score(num_outputs=self.hparams.out_channels)\n",
    "            metrics['pearson_coef'] = torchmetrics.regression.PearsonCorrCoef(num_outputs=self.hparams.out_channels)\n",
    "            metrics['spearman_coef'] = torchmetrics.regression.SpearmanCorrCoef(num_outputs=self.hparams.out_channels)\n",
    "\n",
    "        return metrics\n",
    "\n",
    "    def get_loss_func(self):\n",
    "        if self.task is GNEPropTask.BINARY_CLASSIFICATION:\n",
    "            if self.hparams.pos_weight != 1:\n",
    "                loss_function = nn.BCEWithLogitsLoss(pos_weight=torch.tensor(self.hparams.pos_weight))\n",
    "            else:\n",
    "                loss_function = nn.BCEWithLogitsLoss()\n",
    "        elif self.task is GNEPropTask.REGRESSION:\n",
    "            loss_function = nn.MSELoss()\n",
    "        elif self.task is GNEPropTask.MULTI_CLASSIFICATION:\n",
    "            if self.hparams.class_weight is None:\n",
    "                loss_function = nn.CrossEntropyLoss()\n",
    "            else:\n",
    "                loss_function = nn.CrossEntropyLoss(weight=torch.tensor(self.hparams.class_weight))\n",
    "\n",
    "        return loss_function\n",
    "\n",
    "    def forward(self, data: torch_geometric.data.Data) -> torch.Tensor:\n",
    "        o = self._compute_with_activation(data, return_logits=False)\n",
    "        return o\n",
    "\n",
    "    def _compute_with_activation(self, data: torch_geometric.data.Data, return_logits: bool = False) -> Union[\n",
    "        torch.Tensor, tuple[torch.Tensor, torch.Tensor]]:\n",
    "        logits = self.encoder(data)\n",
    "\n",
    "        if self.task is GNEPropTask.BINARY_CLASSIFICATION:\n",
    "            o = torch.sigmoid(logits)\n",
    "        elif self.task is GNEPropTask.REGRESSION:\n",
    "            o = F.relu(logits) if self.hparams.final_relu else logits\n",
    "        elif self.task is GNEPropTask.MULTI_CLASSIFICATION:\n",
    "            o = torch.softmax(logits, dim=1)\n",
    "        else:\n",
    "            raise ValueError\n",
    "\n",
    "        return o, logits if return_logits else o\n",
    "\n",
    "    def _compute_loss(self, logits: torch.Tensor, targets: torch.Tensor) -> torch.Tensor:\n",
    "        loss = self.loss_function(logits, targets)\n",
    "        return loss\n",
    "\n",
    "    def _prepare_labels(self, targets: torch.Tensor) -> torch.Tensor:\n",
    "        if self.task is GNEPropTask.MULTI_CLASSIFICATION:\n",
    "            targets = targets.long()\n",
    "\n",
    "        return targets\n",
    "\n",
    "    def _prepare_labels_return(self, targets: torch.Tensor) -> torch.Tensor:\n",
    "        if self.task in (GNEPropTask.BINARY_CLASSIFICATION, GNEPropTask.MULTI_CLASSIFICATION):\n",
    "            targets = targets.long()\n",
    "        return targets\n",
    "\n",
    "    def compute_step(self, batch: torch_geometric.data.Data, prefix: str) -> torch.Tensor:\n",
    "        y = batch.y\n",
    "        y = self._prepare_labels(y)\n",
    "\n",
    "        outputs, logits = self._compute_with_activation(batch, return_logits=True)\n",
    "        loss = self._compute_loss(logits, y)\n",
    "\n",
    "        self.log(f\"{prefix}/loss\", loss, prog_bar=True, batch_size=batch.y.shape[0])\n",
    "\n",
    "        y = self._prepare_labels_return(y)\n",
    "\n",
    "        # print metrics\n",
    "        for metric_name, metric_func in self.metrics.items():\n",
    "            self.log(f\"{prefix}/{metric_name}\", metric_func(outputs, y).mean(), prog_bar=True, batch_size=batch.y.shape[0])\n",
    "\n",
    "        return loss\n",
    "\n",
    "    def training_step(self, batch: torch_geometric.data.Data, batch_idx) -> torch.Tensor:\n",
    "        batch = batch['train']\n",
    "        return self.compute_step(batch, prefix=\"train\")\n",
    "\n",
    "    def validation_step(self, batch: torch_geometric.data.Data, batch_idx) -> torch.Tensor:\n",
    "        return self.compute_step(batch, prefix=\"val\")\n",
    "\n",
    "    def test_step(self, batch: torch_geometric.data.Data, batch_idx) -> torch.Tensor:\n",
    "        return self.compute_step(batch, prefix=\"test\")\n",
    "\n",
    "    def configure_optimizers(self):\n",
    "        optimizer = optim.AdamW(\n",
    "            self.parameters(), lr=self.hparams.lr, weight_decay=self.hparams.wd,\n",
    "        )\n",
    "        return optimizer\n",
    "\n",
    "    def on_fit_start(self):\n",
    "        # fix metrics devices\n",
    "        for k, v in self.metrics.items():\n",
    "            self.metrics[k] = v.to(self.device)\n",
    "\n",
    "    def on_test_start(self):\n",
    "        # fix metrics devices\n",
    "        for k, v in self.metrics.items():\n",
    "            self.metrics[k] = v.to(self.device)\n",
    "\n",
    "    def predict_data(self, dataset: torch.utils.data.Dataset, gpus: int = 1, batch_size: int = 100,\n",
    "                     num_workers: int = 16):\n",
    "        trainer = L.Trainer(devices=gpus, logger=False)\n",
    "        dataloader = convert_to_dataloader(dataset, batch_size=batch_size, num_workers=num_workers)\n",
    "\n",
    "        res = trainer.predict(self, dataloaders=dataloader)\n",
    "        res = [i[0].cpu().numpy() for i in res]\n",
    "        res = np.concatenate(res)\n",
    "\n",
    "        return res\n",
    "\n",
    "    def test_data(self, dataset: torch.utils.data.Dataset, gpus: int = 1, batch_size: Union[str, int] = 'full',\n",
    "                  num_workers: int = 16):\n",
    "        if batch_size == 'full':\n",
    "            batch_size = len(dataset)\n",
    "        trainer = L.Trainer(devices=gpus, logger=False)\n",
    "        dataloader = convert_to_dataloader(dataset, batch_size=batch_size, num_workers=num_workers)\n",
    "        trainer.test(self, dataloaders=dataloader)\n",
    "\n",
    "    @staticmethod\n",
    "    def load_from_directory(dir_path: str):\n",
    "        \"\"\"\n",
    "        Assumes only one checkpoint exists in the directory\n",
    "        :param self:\n",
    "        :return:\n",
    "        \"\"\"\n",
    "        paths = get_checkpoint_paths(checkpoint_dir=dir_path)\n",
    "        if len(paths) > 1:\n",
    "            warnings.warn(f\"Found {len(paths)} checkpoints, one selected randomly\", UserWarning)\n",
    "        elif len(paths) == 0:\n",
    "            raise ValueError(\"No checkpoints found\")\n",
    "        else:\n",
    "            return MoleculeModel.load_from_checkpoint(paths[0])\n",
    "\n",
    "    @staticmethod\n",
    "    def add_model_specific_args(parent_parser):\n",
    "        parser = parent_parser.add_argument_group(\"MoleculeModel\")\n",
    "        parser.add_argument('--node_dim', type=int, default=133)\n",
    "        parser.add_argument('--edge_dim', type=int, default=12)\n",
    "        parser.add_argument('--hidden_dim_graph', type=int, default=100)\n",
    "        parser.add_argument('--hidden_dim_ffn', type=int, default=100)\n",
    "        parser.add_argument('--num_mp_layers', type=int, default=5)\n",
    "        parser.add_argument('--num_readout_layers', type=int, default=2)\n",
    "        parser.add_argument('--dropout', type=float, default=0.)\n",
    "        parser.add_argument('--lr', type=float, default=5.e-05)\n",
    "        parser.add_argument('--wd', type=float, default=0.)\n",
    "        parser.add_argument('--aggr', default='mean', const='mean', nargs='?',\n",
    "                            choices=['mean', 'sum'])\n",
    "        parser.add_argument('--jk', default='cat', const='cat', nargs='?', choices=['cat', 'none'])\n",
    "        parser.add_argument('--task', default='binary_classification', const='binary_classification', nargs='?',\n",
    "                            choices=[i.value for i in GNEPropTask], help='GNEprop task')\n",
    "        parser.add_argument('--pos_weight', type=int, default=1, help='Loss weight for binary classification.')\n",
    "        parser.add_argument(\"--weight_decay\", type=float, default=0.)\n",
    "        parser.add_argument('--out_channels', type=int, default=1,\n",
    "                            help='Output size')\n",
    "        # parser.add_argument('--lr_strategy', default='constant', const='constant',\n",
    "        #                     nargs='?',\n",
    "        #                     choices=['constant', 'warmup_cosine'])\n",
    "        parser.add_argument('--final_relu', action=\"store_true\", help='Toggle final relu activation for regression')\n",
    "        parser.add_argument(\"--metric\", type=str, default='val/auc')\n",
    "        return parent_parser\n",
    "\n",
    "    def on_train_epoch_end(self) -> None:\n",
    "        print(f\"Epoch {self.current_epoch} done.\")\n"
   ]
  },
  {
   "cell_type": "code",
   "execution_count": null,
   "id": "aa334c6a-a3a1-4115-81b7-fbda60ea5f55",
   "metadata": {},
   "outputs": [],
   "source": [
    "def smiles_to_networkx(smiles, kekulize=True):\n",
    "    \"\"\"\n",
    "    Converts a SMILES string to a NetworkX graph. The graph will retain the\n",
    "    atomic number and bond type for nodes and edges (respectively), under the\n",
    "    keys `atomic_num` and `bond_type` (respectively).\n",
    "    Arguments:\n",
    "        `smiles`: a SMILES string\n",
    "        `kekulize`: if True, denote single/double bonds separately in aromatic\n",
    "            structures instead of using the aromatic bond type\n",
    "    Returns a NetworkX graph.\n",
    "    \"\"\"\n",
    "    mol = rdkit.Chem.MolFromSmiles(smiles)\n",
    "    if kekulize:\n",
    "        rdkit.Chem.Kekulize(mol)\n",
    "    g = nx.Graph()\n",
    "    for atom in mol.GetAtoms():\n",
    "        g.add_node(\n",
    "            atom.GetIdx(),\n",
    "            atomic_num=atom.GetAtomicNum()\n",
    "        )\n",
    "    for bond in mol.GetBonds():\n",
    "        g.add_edge(\n",
    "            bond.GetBeginAtomIdx(),\n",
    "            bond.GetEndAtomIdx(),\n",
    "            bond_type=bond.GetBondType()\n",
    "        )\n",
    "    return g\n",
    "\n",
    "\n",
    "MAX_NUM_NODES = 38\n",
    "ATOM_MAP = torch.tensor([6, 7, 8, 9, 16, 17, 35, 53, 15])\n",
    "BOND_TYPE_MAP = {\n",
    "    0: 0, 1: 1, 2: 2, 3: 3, 12: 1.5,  # setting aromatic bonds to 1.5\n",
    "}\n",
    "\n",
    "def smiles_to_data(\n",
    "    smiles: str,\n",
    ") -> Data:\n",
    "    graph = smiles_to_networkx(smiles)\n",
    "    for edge_idx in graph.edges():\n",
    "        edge = graph.edges[edge_idx]\n",
    "        edge[\"bond_type\"] = BOND_TYPE_MAP[edge[\"bond_type\"]]\n",
    "        \n",
    "    for i, j in product(range(len(graph)), range(len(graph))):\n",
    "        if i == j or (i, j) in graph.edges():\n",
    "            continue\n",
    "        graph.add_edge(i, j, bond_type=0)\n",
    "    data = torch_geometric.utils.from_networkx(graph)\n",
    "    data.x = (data.atomic_num.unsqueeze(1) == ATOM_MAP.unsqueeze(0)).float()  #(num_node,9)\n",
    "    \n",
    "    # data.edge_attr = F.one_hot(data.bond_type, num_classes=4).to(torch.float32)\n",
    "    data.edge_attr = data.bond_type.view(-1, 1).to(torch.float32)   #(num_edge,1)\n",
    "    \n",
    "    return data\n",
    "\n",
    "class MolData_Binary(Dataset):\n",
    "    def __init__(\n",
    "        self, smiles: list[str], y: np.ndarray,\n",
    "    ):\n",
    "        assert len(y) == len(smiles)\n",
    "        self.smiles = smiles\n",
    "        self.y = torch.tensor(y, dtype=torch.float32)\n",
    "        self.y = (self.y >= 0.8).float()\n",
    "        \n",
    "    def __len__(self) -> int:\n",
    "        return len(self.smiles)\n",
    "    \n",
    "    def __getitem__(self, idx: int) -> Data:\n",
    "        data = smiles_to_data(self.smiles[idx])\n",
    "        \n",
    "        data.y = self.y[idx: idx + 1].clone()\n",
    "        return data"
   ]
  },
  {
   "cell_type": "markdown",
   "id": "fec3f6b2-eb95-4afd-acd5-e55ae2c85226",
   "metadata": {},
   "source": [
    "# prepare data"
   ]
  },
  {
   "cell_type": "code",
   "execution_count": null,
   "id": "5134fd41-ed5d-4f54-b4a1-d74a0269ff42",
   "metadata": {},
   "outputs": [],
   "source": [
    "df = pd.read_csv(\"https://raw.githubusercontent.com/aspuru-guzik-group/chemical_vae/master/models/zinc_properties/250k_rndm_zinc_drugs_clean_3.csv\")\n",
    "X_train_val, X_test, y_train_val, y_test = train_test_split(\n",
    "    df[\"smiles\"].values, df[[\"qed\"]].values, random_state=13141,\n",
    ")\n",
    "X_train, X_val, y_train, y_val = train_test_split(\n",
    "    X_train_val, y_train_val, random_state=11, test_size=0.1,\n",
    ")\n",
    "\n",
    "# scaler = StandardScaler()\n",
    "# y_train = scaler.fit_transform(y_train)\n",
    "# y_val = scaler.transform(y_val)\n",
    "# y_test = scaler.transform(y_test)\n",
    "\n",
    "train_dset = MolData_Binary(\n",
    "    X_train, torch.tensor(y_train, dtype=torch.float32),\n",
    ")\n",
    "val_dset = MolData_Binary(\n",
    "    X_val, torch.tensor(y_val, dtype=torch.float32),\n",
    ")\n",
    "test_dset = MolData_Binary(\n",
    "    X_test, torch.tensor(y_test, dtype=torch.float32),\n",
    ")\n",
    "\n",
    "batch_size = 128\n",
    "num_workers = 4\n",
    "train_loader = DataLoader(\n",
    "    train_dset, batch_size=batch_size, shuffle=True, num_workers=num_workers,\n",
    ")\n",
    "val_loader = DataLoader(\n",
    "    val_dset, batch_size=batch_size, shuffle=True, num_workers=num_workers,\n",
    ")\n",
    "test_loader = DataLoader(\n",
    "    test_dset, batch_size=batch_size, shuffle=False, num_workers=num_workers,\n",
    ")"
   ]
  },
  {
   "cell_type": "markdown",
   "id": "546fd50e-0e0d-4dcb-900f-db7b7603bb6d",
   "metadata": {},
   "source": [
    "# prepare model"
   ]
  },
  {
   "cell_type": "code",
   "execution_count": null,
   "id": "cc40e6e1-7424-4319-95fb-e7e7c40e3f06",
   "metadata": {},
   "outputs": [],
   "source": [
    "parser = ArgumentParser()\n",
    "MoleculeModel.add_model_specific_args(parser)\n",
    "args = parser.parse_args(\"\")\n",
    "args.node_dim = 9\n",
    "args.edge_dim = 1\n",
    "args.lr = 1e-5\n",
    "args.task = \"binary_classification\"\n",
    "args.out_channels = 1\n",
    "model = MoleculeModel(**vars(args))"
   ]
  },
  {
   "cell_type": "markdown",
   "id": "e0a47a69-d898-4832-8497-28b288fd249f",
   "metadata": {},
   "source": [
    "# check model has gradients w.r.t. node and edge features"
   ]
  },
  {
   "cell_type": "code",
   "execution_count": null,
   "id": "f4026c49-2e9a-47f6-bf73-e783b6e82df3",
   "metadata": {},
   "outputs": [],
   "source": [
    "d = next(train_loader.__iter__())\n",
    "d.edge_attr.requires_grad = True\n",
    "d.x.requires_grad = True\n",
    "out = model(d)[0].sum()\n",
    "gd = grad(out, [d.x, d.edge_attr])\n",
    "gd[0].shape, gd[1].shape"
   ]
  },
  {
   "cell_type": "code",
   "execution_count": null,
   "id": "ff1ac215",
   "metadata": {},
   "outputs": [],
   "source": [
    "class InMemoryLogger(Logger):\n",
    "    \"\"\"somewhat hacky way to use lightning to track metrics in memory for quick experiments\"\"\"\n",
    "    def __init__(self):\n",
    "        super().__init__()\n",
    "        self.metrics = defaultdict(list)\n",
    "        self.hps = None\n",
    "\n",
    "    def log_metrics(self, metrics: dict[str, float], step: int = None):\n",
    "        for metric, value in metrics.items():\n",
    "            self.metrics[metric].append(value)\n",
    "\n",
    "    @property\n",
    "    def name(self):\n",
    "        return \"in_memory_logger\"\n",
    "\n",
    "    def log_hyperparams(self, params: dict[str, float], **kwargs):\n",
    "        self.hps = params\n",
    "\n",
    "    @property\n",
    "    def version(self):\n",
    "        return \"0.0\""
   ]
  },
  {
   "cell_type": "markdown",
   "id": "3a33ed9c-c48f-46a9-b53f-d61d8ef1b096",
   "metadata": {},
   "source": [
    "# train model"
   ]
  },
  {
   "cell_type": "code",
   "execution_count": 9,
   "id": "c6e1faca-531e-47b9-8690-568c4819d1ad",
   "metadata": {},
   "outputs": [
    {
     "data": {
      "application/vnd.jupyter.widget-view+json": {
       "model_id": "9317845de12c41f897847252eb81a9bf",
       "version_major": 2,
       "version_minor": 0
      },
      "text/plain": [
       "Training: |          | 0/? [00:00<?, ?it/s]"
      ]
     },
     "metadata": {},
     "output_type": "display_data"
    },
    {
     "data": {
      "application/vnd.jupyter.widget-view+json": {
       "model_id": "95cab91a7e594ad7a5221f17fc87b0f7",
       "version_major": 2,
       "version_minor": 0
      },
      "text/plain": [
       "Validation: |          | 0/? [00:00<?, ?it/s]"
      ]
     },
     "metadata": {},
     "output_type": "display_data"
    },
    {
     "name": "stdout",
     "output_type": "stream",
     "text": [
      "Epoch 0 done.\n"
     ]
    },
    {
     "data": {
      "application/vnd.jupyter.widget-view+json": {
       "model_id": "991ec316fb1742559db07411a0442524",
       "version_major": 2,
       "version_minor": 0
      },
      "text/plain": [
       "Validation: |          | 0/? [00:00<?, ?it/s]"
      ]
     },
     "metadata": {},
     "output_type": "display_data"
    },
    {
     "name": "stdout",
     "output_type": "stream",
     "text": [
      "Epoch 1 done.\n"
     ]
    },
    {
     "data": {
      "application/vnd.jupyter.widget-view+json": {
       "model_id": "74a9671edb32428bbee370c533b1548c",
       "version_major": 2,
       "version_minor": 0
      },
      "text/plain": [
       "Validation: |          | 0/? [00:00<?, ?it/s]"
      ]
     },
     "metadata": {},
     "output_type": "display_data"
    },
    {
     "name": "stdout",
     "output_type": "stream",
     "text": [
      "Epoch 2 done.\n"
     ]
    },
    {
     "data": {
      "application/vnd.jupyter.widget-view+json": {
       "model_id": "b8a0d5dccb544da3a3972f5bffbcc813",
       "version_major": 2,
       "version_minor": 0
      },
      "text/plain": [
       "Validation: |          | 0/? [00:00<?, ?it/s]"
      ]
     },
     "metadata": {},
     "output_type": "display_data"
    },
    {
     "name": "stdout",
     "output_type": "stream",
     "text": [
      "Epoch 3 done.\n"
     ]
    },
    {
     "data": {
      "application/vnd.jupyter.widget-view+json": {
       "model_id": "8f19709e8ae54419b05e66cc26363295",
       "version_major": 2,
       "version_minor": 0
      },
      "text/plain": [
       "Validation: |          | 0/? [00:00<?, ?it/s]"
      ]
     },
     "metadata": {},
     "output_type": "display_data"
    },
    {
     "name": "stdout",
     "output_type": "stream",
     "text": [
      "Epoch 4 done.\n"
     ]
    },
    {
     "data": {
      "application/vnd.jupyter.widget-view+json": {
       "model_id": "69343c79a6dd447986ace1b8d0809ba3",
       "version_major": 2,
       "version_minor": 0
      },
      "text/plain": [
       "Validation: |          | 0/? [00:00<?, ?it/s]"
      ]
     },
     "metadata": {},
     "output_type": "display_data"
    },
    {
     "name": "stdout",
     "output_type": "stream",
     "text": [
      "Epoch 5 done.\n"
     ]
    },
    {
     "data": {
      "application/vnd.jupyter.widget-view+json": {
       "model_id": "36272c1ac63b49d5ab565d06961afb7a",
       "version_major": 2,
       "version_minor": 0
      },
      "text/plain": [
       "Validation: |          | 0/? [00:00<?, ?it/s]"
      ]
     },
     "metadata": {},
     "output_type": "display_data"
    },
    {
     "name": "stdout",
     "output_type": "stream",
     "text": [
      "Epoch 6 done.\n"
     ]
    },
    {
     "data": {
      "application/vnd.jupyter.widget-view+json": {
       "model_id": "8e1421c860f04efbb347caafcf216c3e",
       "version_major": 2,
       "version_minor": 0
      },
      "text/plain": [
       "Validation: |          | 0/? [00:00<?, ?it/s]"
      ]
     },
     "metadata": {},
     "output_type": "display_data"
    },
    {
     "name": "stdout",
     "output_type": "stream",
     "text": [
      "Epoch 7 done.\n"
     ]
    },
    {
     "data": {
      "application/vnd.jupyter.widget-view+json": {
       "model_id": "559798aa480e428f9faf0cc013688e31",
       "version_major": 2,
       "version_minor": 0
      },
      "text/plain": [
       "Validation: |          | 0/? [00:00<?, ?it/s]"
      ]
     },
     "metadata": {},
     "output_type": "display_data"
    },
    {
     "name": "stdout",
     "output_type": "stream",
     "text": [
      "Epoch 8 done.\n"
     ]
    },
    {
     "data": {
      "application/vnd.jupyter.widget-view+json": {
       "model_id": "6a1d1b472d2140309dc98ab954b46071",
       "version_major": 2,
       "version_minor": 0
      },
      "text/plain": [
       "Validation: |          | 0/? [00:00<?, ?it/s]"
      ]
     },
     "metadata": {},
     "output_type": "display_data"
    },
    {
     "name": "stdout",
     "output_type": "stream",
     "text": [
      "Epoch 9 done.\n"
     ]
    },
    {
     "data": {
      "application/vnd.jupyter.widget-view+json": {
       "model_id": "fb3d8f9d03ae404398846668a5dd87be",
       "version_major": 2,
       "version_minor": 0
      },
      "text/plain": [
       "Validation: |          | 0/? [00:00<?, ?it/s]"
      ]
     },
     "metadata": {},
     "output_type": "display_data"
    },
    {
     "name": "stdout",
     "output_type": "stream",
     "text": [
      "Epoch 10 done.\n"
     ]
    },
    {
     "data": {
      "application/vnd.jupyter.widget-view+json": {
       "model_id": "816a62799d774f6ba9b2ca90fcbe3330",
       "version_major": 2,
       "version_minor": 0
      },
      "text/plain": [
       "Validation: |          | 0/? [00:00<?, ?it/s]"
      ]
     },
     "metadata": {},
     "output_type": "display_data"
    },
    {
     "name": "stdout",
     "output_type": "stream",
     "text": [
      "Epoch 11 done.\n"
     ]
    },
    {
     "data": {
      "application/vnd.jupyter.widget-view+json": {
       "model_id": "aec74d3fb0bf4d87a10e6099957c7299",
       "version_major": 2,
       "version_minor": 0
      },
      "text/plain": [
       "Validation: |          | 0/? [00:00<?, ?it/s]"
      ]
     },
     "metadata": {},
     "output_type": "display_data"
    },
    {
     "name": "stdout",
     "output_type": "stream",
     "text": [
      "Epoch 12 done.\n"
     ]
    },
    {
     "data": {
      "application/vnd.jupyter.widget-view+json": {
       "model_id": "024e228ac2a04364b735e156e7904096",
       "version_major": 2,
       "version_minor": 0
      },
      "text/plain": [
       "Validation: |          | 0/? [00:00<?, ?it/s]"
      ]
     },
     "metadata": {},
     "output_type": "display_data"
    },
    {
     "name": "stdout",
     "output_type": "stream",
     "text": [
      "Epoch 13 done.\n"
     ]
    },
    {
     "data": {
      "application/vnd.jupyter.widget-view+json": {
       "model_id": "68bfdb2cd7934f948af5117d74595f71",
       "version_major": 2,
       "version_minor": 0
      },
      "text/plain": [
       "Validation: |          | 0/? [00:00<?, ?it/s]"
      ]
     },
     "metadata": {},
     "output_type": "display_data"
    },
    {
     "name": "stdout",
     "output_type": "stream",
     "text": [
      "Epoch 14 done.\n"
     ]
    },
    {
     "data": {
      "application/vnd.jupyter.widget-view+json": {
       "model_id": "a3aa8a8b0d7d419e8c3e41a22c7fbcb8",
       "version_major": 2,
       "version_minor": 0
      },
      "text/plain": [
       "Validation: |          | 0/? [00:00<?, ?it/s]"
      ]
     },
     "metadata": {},
     "output_type": "display_data"
    },
    {
     "name": "stdout",
     "output_type": "stream",
     "text": [
      "Epoch 15 done.\n"
     ]
    },
    {
     "data": {
      "application/vnd.jupyter.widget-view+json": {
       "model_id": "8f039083507a44849aaa91e4b7d9563b",
       "version_major": 2,
       "version_minor": 0
      },
      "text/plain": [
       "Validation: |          | 0/? [00:00<?, ?it/s]"
      ]
     },
     "metadata": {},
     "output_type": "display_data"
    },
    {
     "name": "stdout",
     "output_type": "stream",
     "text": [
      "Epoch 16 done.\n"
     ]
    },
    {
     "data": {
      "application/vnd.jupyter.widget-view+json": {
       "model_id": "f0f1dc15ce554fb4bbce3e1350d390f1",
       "version_major": 2,
       "version_minor": 0
      },
      "text/plain": [
       "Validation: |          | 0/? [00:00<?, ?it/s]"
      ]
     },
     "metadata": {},
     "output_type": "display_data"
    },
    {
     "name": "stdout",
     "output_type": "stream",
     "text": [
      "Epoch 17 done.\n"
     ]
    },
    {
     "data": {
      "application/vnd.jupyter.widget-view+json": {
       "model_id": "e151e0c8c20847b9b5df685720ad3d47",
       "version_major": 2,
       "version_minor": 0
      },
      "text/plain": [
       "Validation: |          | 0/? [00:00<?, ?it/s]"
      ]
     },
     "metadata": {},
     "output_type": "display_data"
    },
    {
     "name": "stdout",
     "output_type": "stream",
     "text": [
      "Epoch 18 done.\n"
     ]
    },
    {
     "data": {
      "application/vnd.jupyter.widget-view+json": {
       "model_id": "5b8bd4ded330454abbeee80b4c6dc6cf",
       "version_major": 2,
       "version_minor": 0
      },
      "text/plain": [
       "Validation: |          | 0/? [00:00<?, ?it/s]"
      ]
     },
     "metadata": {},
     "output_type": "display_data"
    },
    {
     "name": "stdout",
     "output_type": "stream",
     "text": [
      "Epoch 19 done.\n"
     ]
    },
    {
     "data": {
      "application/vnd.jupyter.widget-view+json": {
       "model_id": "821f1fe68deb422a90f0153f2766ee73",
       "version_major": 2,
       "version_minor": 0
      },
      "text/plain": [
       "Validation: |          | 0/? [00:00<?, ?it/s]"
      ]
     },
     "metadata": {},
     "output_type": "display_data"
    },
    {
     "name": "stdout",
     "output_type": "stream",
     "text": [
      "Epoch 20 done.\n"
     ]
    },
    {
     "data": {
      "application/vnd.jupyter.widget-view+json": {
       "model_id": "2164c8eb840f4c958239d013913ce05f",
       "version_major": 2,
       "version_minor": 0
      },
      "text/plain": [
       "Validation: |          | 0/? [00:00<?, ?it/s]"
      ]
     },
     "metadata": {},
     "output_type": "display_data"
    },
    {
     "name": "stdout",
     "output_type": "stream",
     "text": [
      "Epoch 21 done.\n"
     ]
    },
    {
     "data": {
      "application/vnd.jupyter.widget-view+json": {
       "model_id": "440bfbc658cc4625a2d60b8ab1392fa9",
       "version_major": 2,
       "version_minor": 0
      },
      "text/plain": [
       "Validation: |          | 0/? [00:00<?, ?it/s]"
      ]
     },
     "metadata": {},
     "output_type": "display_data"
    },
    {
     "name": "stdout",
     "output_type": "stream",
     "text": [
      "Epoch 22 done.\n"
     ]
    },
    {
     "data": {
      "application/vnd.jupyter.widget-view+json": {
       "model_id": "a8bd63f5c98b4c08840f9b6cb14e68fc",
       "version_major": 2,
       "version_minor": 0
      },
      "text/plain": [
       "Validation: |          | 0/? [00:00<?, ?it/s]"
      ]
     },
     "metadata": {},
     "output_type": "display_data"
    },
    {
     "name": "stdout",
     "output_type": "stream",
     "text": [
      "Epoch 23 done.\n"
     ]
    },
    {
     "data": {
      "application/vnd.jupyter.widget-view+json": {
       "model_id": "eab66cf6f9c14eb6b26fc6d11b3a843a",
       "version_major": 2,
       "version_minor": 0
      },
      "text/plain": [
       "Validation: |          | 0/? [00:00<?, ?it/s]"
      ]
     },
     "metadata": {},
     "output_type": "display_data"
    },
    {
     "name": "stdout",
     "output_type": "stream",
     "text": [
      "Epoch 24 done.\n"
     ]
    },
    {
     "data": {
      "application/vnd.jupyter.widget-view+json": {
       "model_id": "678d4ba2623c409396aff1eb89afd445",
       "version_major": 2,
       "version_minor": 0
      },
      "text/plain": [
       "Validation: |          | 0/? [00:00<?, ?it/s]"
      ]
     },
     "metadata": {},
     "output_type": "display_data"
    },
    {
     "name": "stdout",
     "output_type": "stream",
     "text": [
      "Epoch 25 done.\n"
     ]
    },
    {
     "data": {
      "application/vnd.jupyter.widget-view+json": {
       "model_id": "d64265d4cc7645248e1cfbd6bd2c4e34",
       "version_major": 2,
       "version_minor": 0
      },
      "text/plain": [
       "Validation: |          | 0/? [00:00<?, ?it/s]"
      ]
     },
     "metadata": {},
     "output_type": "display_data"
    },
    {
     "name": "stdout",
     "output_type": "stream",
     "text": [
      "Epoch 26 done.\n"
     ]
    },
    {
     "data": {
      "application/vnd.jupyter.widget-view+json": {
       "model_id": "0d17484b2e304dc9be012314f2446c4d",
       "version_major": 2,
       "version_minor": 0
      },
      "text/plain": [
       "Validation: |          | 0/? [00:00<?, ?it/s]"
      ]
     },
     "metadata": {},
     "output_type": "display_data"
    },
    {
     "name": "stdout",
     "output_type": "stream",
     "text": [
      "Epoch 27 done.\n"
     ]
    },
    {
     "data": {
      "application/vnd.jupyter.widget-view+json": {
       "model_id": "ee42de22895a455da182125fd4e22741",
       "version_major": 2,
       "version_minor": 0
      },
      "text/plain": [
       "Validation: |          | 0/? [00:00<?, ?it/s]"
      ]
     },
     "metadata": {},
     "output_type": "display_data"
    },
    {
     "name": "stdout",
     "output_type": "stream",
     "text": [
      "Epoch 28 done.\n"
     ]
    },
    {
     "data": {
      "application/vnd.jupyter.widget-view+json": {
       "model_id": "82e3a094ebe94b2aa3bcf711ac8f56c0",
       "version_major": 2,
       "version_minor": 0
      },
      "text/plain": [
       "Validation: |          | 0/? [00:00<?, ?it/s]"
      ]
     },
     "metadata": {},
     "output_type": "display_data"
    },
    {
     "name": "stdout",
     "output_type": "stream",
     "text": [
      "Epoch 29 done.\n"
     ]
    },
    {
     "data": {
      "application/vnd.jupyter.widget-view+json": {
       "model_id": "a29e35f57fd3466fb1cf2928e7bc82cb",
       "version_major": 2,
       "version_minor": 0
      },
      "text/plain": [
       "Validation: |          | 0/? [00:00<?, ?it/s]"
      ]
     },
     "metadata": {},
     "output_type": "display_data"
    },
    {
     "name": "stdout",
     "output_type": "stream",
     "text": [
      "Epoch 30 done.\n"
     ]
    },
    {
     "data": {
      "application/vnd.jupyter.widget-view+json": {
       "model_id": "fc0a0022774e425da85cbf3dc8fe6edd",
       "version_major": 2,
       "version_minor": 0
      },
      "text/plain": [
       "Validation: |          | 0/? [00:00<?, ?it/s]"
      ]
     },
     "metadata": {},
     "output_type": "display_data"
    },
    {
     "name": "stdout",
     "output_type": "stream",
     "text": [
      "Epoch 31 done.\n"
     ]
    },
    {
     "data": {
      "application/vnd.jupyter.widget-view+json": {
       "model_id": "74415700abd2444998333f5cce09eadd",
       "version_major": 2,
       "version_minor": 0
      },
      "text/plain": [
       "Validation: |          | 0/? [00:00<?, ?it/s]"
      ]
     },
     "metadata": {},
     "output_type": "display_data"
    },
    {
     "name": "stdout",
     "output_type": "stream",
     "text": [
      "Epoch 32 done.\n"
     ]
    },
    {
     "data": {
      "application/vnd.jupyter.widget-view+json": {
       "model_id": "23bd0f97cd14475c9bbad5e0cdab8792",
       "version_major": 2,
       "version_minor": 0
      },
      "text/plain": [
       "Validation: |          | 0/? [00:00<?, ?it/s]"
      ]
     },
     "metadata": {},
     "output_type": "display_data"
    },
    {
     "name": "stdout",
     "output_type": "stream",
     "text": [
      "Epoch 33 done.\n"
     ]
    },
    {
     "data": {
      "application/vnd.jupyter.widget-view+json": {
       "model_id": "01037fd9a145487b9e8a05a204faae84",
       "version_major": 2,
       "version_minor": 0
      },
      "text/plain": [
       "Validation: |          | 0/? [00:00<?, ?it/s]"
      ]
     },
     "metadata": {},
     "output_type": "display_data"
    },
    {
     "name": "stdout",
     "output_type": "stream",
     "text": [
      "Epoch 34 done.\n"
     ]
    },
    {
     "data": {
      "application/vnd.jupyter.widget-view+json": {
       "model_id": "e09ecbb479c346d29d26f863cbf5d24b",
       "version_major": 2,
       "version_minor": 0
      },
      "text/plain": [
       "Validation: |          | 0/? [00:00<?, ?it/s]"
      ]
     },
     "metadata": {},
     "output_type": "display_data"
    },
    {
     "name": "stdout",
     "output_type": "stream",
     "text": [
      "Epoch 35 done.\n"
     ]
    },
    {
     "data": {
      "application/vnd.jupyter.widget-view+json": {
       "model_id": "60f41f2ef46548ceab73c3ec5bc11d20",
       "version_major": 2,
       "version_minor": 0
      },
      "text/plain": [
       "Validation: |          | 0/? [00:00<?, ?it/s]"
      ]
     },
     "metadata": {},
     "output_type": "display_data"
    },
    {
     "name": "stdout",
     "output_type": "stream",
     "text": [
      "Epoch 36 done.\n"
     ]
    },
    {
     "data": {
      "application/vnd.jupyter.widget-view+json": {
       "model_id": "e0c076c56ea74afd8b8ec6ea904e8c16",
       "version_major": 2,
       "version_minor": 0
      },
      "text/plain": [
       "Validation: |          | 0/? [00:00<?, ?it/s]"
      ]
     },
     "metadata": {},
     "output_type": "display_data"
    },
    {
     "name": "stdout",
     "output_type": "stream",
     "text": [
      "Epoch 37 done.\n"
     ]
    },
    {
     "data": {
      "application/vnd.jupyter.widget-view+json": {
       "model_id": "48f90e7761c84b15a9c2b2c777fe4b2a",
       "version_major": 2,
       "version_minor": 0
      },
      "text/plain": [
       "Validation: |          | 0/? [00:00<?, ?it/s]"
      ]
     },
     "metadata": {},
     "output_type": "display_data"
    },
    {
     "name": "stdout",
     "output_type": "stream",
     "text": [
      "Epoch 38 done.\n"
     ]
    },
    {
     "data": {
      "application/vnd.jupyter.widget-view+json": {
       "model_id": "6dd9c134c10f4e15a491643e3d058ea2",
       "version_major": 2,
       "version_minor": 0
      },
      "text/plain": [
       "Validation: |          | 0/? [00:00<?, ?it/s]"
      ]
     },
     "metadata": {},
     "output_type": "display_data"
    },
    {
     "name": "stdout",
     "output_type": "stream",
     "text": [
      "Epoch 39 done.\n"
     ]
    },
    {
     "data": {
      "application/vnd.jupyter.widget-view+json": {
       "model_id": "677ce883cb2c4455813441bbfb17c43a",
       "version_major": 2,
       "version_minor": 0
      },
      "text/plain": [
       "Validation: |          | 0/? [00:00<?, ?it/s]"
      ]
     },
     "metadata": {},
     "output_type": "display_data"
    },
    {
     "name": "stdout",
     "output_type": "stream",
     "text": [
      "Epoch 40 done.\n"
     ]
    },
    {
     "data": {
      "application/vnd.jupyter.widget-view+json": {
       "model_id": "ec6d3688c53e44c5976785aa21991c27",
       "version_major": 2,
       "version_minor": 0
      },
      "text/plain": [
       "Validation: |          | 0/? [00:00<?, ?it/s]"
      ]
     },
     "metadata": {},
     "output_type": "display_data"
    },
    {
     "name": "stdout",
     "output_type": "stream",
     "text": [
      "Epoch 41 done.\n"
     ]
    },
    {
     "data": {
      "application/vnd.jupyter.widget-view+json": {
       "model_id": "53c3490731b94dd28382b369814592f8",
       "version_major": 2,
       "version_minor": 0
      },
      "text/plain": [
       "Validation: |          | 0/? [00:00<?, ?it/s]"
      ]
     },
     "metadata": {},
     "output_type": "display_data"
    },
    {
     "name": "stdout",
     "output_type": "stream",
     "text": [
      "Epoch 42 done.\n"
     ]
    },
    {
     "data": {
      "application/vnd.jupyter.widget-view+json": {
       "model_id": "30e49be0b15346919cd804fdc7677898",
       "version_major": 2,
       "version_minor": 0
      },
      "text/plain": [
       "Validation: |          | 0/? [00:00<?, ?it/s]"
      ]
     },
     "metadata": {},
     "output_type": "display_data"
    },
    {
     "name": "stdout",
     "output_type": "stream",
     "text": [
      "Epoch 43 done.\n"
     ]
    },
    {
     "data": {
      "application/vnd.jupyter.widget-view+json": {
       "model_id": "d6750fc680b84983afba2760d5c281b6",
       "version_major": 2,
       "version_minor": 0
      },
      "text/plain": [
       "Validation: |          | 0/? [00:00<?, ?it/s]"
      ]
     },
     "metadata": {},
     "output_type": "display_data"
    },
    {
     "name": "stdout",
     "output_type": "stream",
     "text": [
      "Epoch 44 done.\n"
     ]
    },
    {
     "data": {
      "application/vnd.jupyter.widget-view+json": {
       "model_id": "9b4b736e59634267994bf45bdfa5adee",
       "version_major": 2,
       "version_minor": 0
      },
      "text/plain": [
       "Validation: |          | 0/? [00:00<?, ?it/s]"
      ]
     },
     "metadata": {},
     "output_type": "display_data"
    },
    {
     "name": "stdout",
     "output_type": "stream",
     "text": [
      "Epoch 45 done.\n"
     ]
    },
    {
     "data": {
      "application/vnd.jupyter.widget-view+json": {
       "model_id": "bcabcc265d0c4954a99f07543f07efbd",
       "version_major": 2,
       "version_minor": 0
      },
      "text/plain": [
       "Validation: |          | 0/? [00:00<?, ?it/s]"
      ]
     },
     "metadata": {},
     "output_type": "display_data"
    },
    {
     "name": "stdout",
     "output_type": "stream",
     "text": [
      "Epoch 46 done.\n"
     ]
    },
    {
     "data": {
      "application/vnd.jupyter.widget-view+json": {
       "model_id": "33dd6dc108624275a9dbe0194e10a603",
       "version_major": 2,
       "version_minor": 0
      },
      "text/plain": [
       "Validation: |          | 0/? [00:00<?, ?it/s]"
      ]
     },
     "metadata": {},
     "output_type": "display_data"
    },
    {
     "name": "stdout",
     "output_type": "stream",
     "text": [
      "Epoch 47 done.\n"
     ]
    }
   ],
   "source": [
    "epochs = 100\n",
    "from pytorch_lightning.loggers import WandbLogger\n",
    "\n",
    "logger = InMemoryLogger()\n",
    "# logger = WandbLogger(name=\"GNN_properties_1feat_withemptyedge_binary\", project=\"mol_prop\")\n",
    "\n",
    "trainer = Trainer(\n",
    "    accelerator=\"gpu\",\n",
    "    limit_train_batches=100,\n",
    "    limit_val_batches=30,\n",
    "    log_every_n_steps=100,\n",
    "    logger=logger,\n",
    "    max_epochs=epochs,\n",
    "    enable_progress_bar=True,\n",
    "    callbacks=[\n",
    "        LearningRateMonitor(),\n",
    "        EarlyStopping(monitor=\"val/loss\", mode=\"min\", patience=max(epochs // 10, 1)),\n",
    "        ModelCheckpoint(\n",
    "            \"./property_model/with_empty_edge/1feat_binary_class/\",\n",
    "            monitor=\"val/loss\",\n",
    "        ),\n",
    "    ],\n",
    ")\n",
    "trainer.fit(\n",
    "    model=model, train_dataloaders={\"train\": train_loader}, val_dataloaders=val_loader, \n",
    "    # ckpt_path=\"property_model/with_empty_edge/1feat/epoch=16-step=1700.ckpt\"\n",
    ")"
   ]
  },
  {
   "cell_type": "markdown",
   "id": "d45be08e-7038-4820-8a43-44090f1c17d5",
   "metadata": {},
   "source": [
    "# plot metrics"
   ]
  },
  {
   "cell_type": "code",
   "execution_count": 10,
   "id": "ee59f14c-2cb2-45db-864c-6799e01be618",
   "metadata": {},
   "outputs": [
    {
     "data": {
      "image/png": "[encoded data removed]",
      "text/plain": [
       "<Figure size 640x480 with 1 Axes>"
      ]
     },
     "metadata": {},
     "output_type": "display_data"
    },
    {
     "data": {
      "image/png": "[encoded data removed]",
      "text/plain": [
       "<Figure size 640x480 with 1 Axes>"
      ]
     },
     "metadata": {},
     "output_type": "display_data"
    },
    {
     "data": {
      "image/png": "[encoded data removed]",
      "text/plain": [
       "<Figure size 640x480 with 1 Axes>"
      ]
     },
     "metadata": {},
     "output_type": "display_data"
    },
    {
     "data": {
      "image/png": "[encoded data removed]",
      "text/plain": [
       "<Figure size 640x480 with 1 Axes>"
      ]
     },
     "metadata": {},
     "output_type": "display_data"
    },
    {
     "data": {
      "image/png": "[encoded data removed]",
      "text/plain": [
       "<Figure size 640x480 with 1 Axes>"
      ]
     },
     "metadata": {},
     "output_type": "display_data"
    },
    {
     "data": {
      "image/png": "[encoded data removed]",
      "text/plain": [
       "<Figure size 640x480 with 1 Axes>"
      ]
     },
     "metadata": {},
     "output_type": "display_data"
    }
   ],
   "source": [
    "for name, vals in logger.metrics.items():\n",
    "    if not name.startswith(\"train/\"):\n",
    "        continue\n",
    "    plt.title(name[6:])\n",
    "    plt.plot(vals, label=\"train\")\n",
    "    plt.plot(logger.metrics[name.replace(\"train/\", \"val/\")], label=\"val\")\n",
    "    plt.legend()\n",
    "    plt.xlabel(\"epoch\")\n",
    "    plt.show()"
   ]
  },
  {
   "cell_type": "code",
   "execution_count": 12,
   "id": "a6170325",
   "metadata": {},
   "outputs": [
    {
     "name": "stderr",
     "output_type": "stream",
     "text": [
      "/tmp/ipykernel_342963/2146877566.py:62: UserWarning: To copy construct from a tensor, it is recommended to use sourceTensor.clone().detach() or sourceTensor.clone().detach().requires_grad_(True), rather than torch.tensor(sourceTensor).\n",
      "  self.y = torch.tensor(y, dtype=torch.float32)\n",
      "/data/yulai/anaconda3/envs/mol/lib/python3.10/site-packages/torch_geometric/deprecation.py:26: UserWarning: 'data.DataLoader' is deprecated, use 'loader.DataLoader' instead\n",
      "  warnings.warn(out)\n"
     ]
    },
    {
     "data": {
      "application/vnd.jupyter.widget-view+json": {
       "model_id": "2c9d8a3697824ec996fc98bb46ccc5ae",
       "version_major": 2,
       "version_minor": 0
      },
      "text/plain": [
       "  0%|          | 0/975 [00:00<?, ?it/s]"
      ]
     },
     "metadata": {},
     "output_type": "display_data"
    },
    {
     "name": "stdout",
     "output_type": "stream",
     "text": [
      "torch.Size([256, 1])\n",
      "torch.Size([256, 1])\n",
      "torch.Size([256, 1])\n",
      "torch.Size([256, 1])\n",
      "torch.Size([256, 1])\n",
      "torch.Size([256, 1])\n",
      "torch.Size([256, 1])\n",
      "torch.Size([256, 1])\n",
      "torch.Size([256, 1])\n",
      "torch.Size([256, 1])\n",
      "torch.Size([256, 1])\n",
      "torch.Size([256, 1])\n",
      "torch.Size([256, 1])\n",
      "torch.Size([256, 1])\n",
      "torch.Size([256, 1])\n",
      "torch.Size([256, 1])\n",
      "torch.Size([256, 1])\n",
      "torch.Size([256, 1])\n",
      "torch.Size([256, 1])\n",
      "torch.Size([256, 1])\n",
      "torch.Size([256, 1])\n",
      "torch.Size([256, 1])\n",
      "torch.Size([256, 1])\n",
      "torch.Size([256, 1])\n",
      "torch.Size([256, 1])\n",
      "torch.Size([256, 1])\n",
      "torch.Size([256, 1])\n",
      "torch.Size([256, 1])\n",
      "torch.Size([256, 1])\n",
      "torch.Size([256, 1])\n",
      "torch.Size([256, 1])\n",
      "torch.Size([256, 1])\n",
      "torch.Size([256, 1])\n",
      "torch.Size([256, 1])\n",
      "torch.Size([256, 1])\n",
      "torch.Size([256, 1])\n",
      "torch.Size([256, 1])\n",
      "torch.Size([256, 1])\n",
      "torch.Size([256, 1])\n",
      "torch.Size([256, 1])\n",
      "torch.Size([256, 1])\n",
      "torch.Size([256, 1])\n",
      "torch.Size([256, 1])\n",
      "torch.Size([256, 1])\n",
      "torch.Size([256, 1])\n",
      "torch.Size([256, 1])\n",
      "torch.Size([256, 1])\n",
      "torch.Size([256, 1])\n",
      "torch.Size([256, 1])\n",
      "torch.Size([256, 1])\n",
      "torch.Size([256, 1])\n",
      "torch.Size([256, 1])\n",
      "torch.Size([256, 1])\n",
      "torch.Size([256, 1])\n",
      "torch.Size([256, 1])\n",
      "torch.Size([256, 1])\n",
      "torch.Size([256, 1])\n",
      "torch.Size([256, 1])\n",
      "torch.Size([256, 1])\n",
      "torch.Size([256, 1])\n",
      "torch.Size([256, 1])\n",
      "torch.Size([256, 1])\n",
      "torch.Size([256, 1])\n",
      "torch.Size([256, 1])\n",
      "torch.Size([256, 1])\n",
      "torch.Size([256, 1])\n",
      "torch.Size([256, 1])\n",
      "torch.Size([256, 1])\n",
      "torch.Size([256, 1])\n",
      "torch.Size([256, 1])\n",
      "torch.Size([256, 1])\n",
      "torch.Size([256, 1])\n",
      "torch.Size([256, 1])\n",
      "torch.Size([256, 1])\n",
      "torch.Size([256, 1])\n",
      "torch.Size([256, 1])\n",
      "torch.Size([256, 1])\n",
      "torch.Size([256, 1])\n",
      "torch.Size([256, 1])\n",
      "torch.Size([256, 1])\n",
      "torch.Size([256, 1])\n",
      "torch.Size([256, 1])\n",
      "torch.Size([256, 1])\n",
      "torch.Size([256, 1])\n",
      "torch.Size([256, 1])\n",
      "torch.Size([256, 1])\n",
      "torch.Size([256, 1])\n",
      "torch.Size([256, 1])\n",
      "torch.Size([256, 1])\n",
      "torch.Size([256, 1])\n",
      "torch.Size([256, 1])\n",
      "torch.Size([256, 1])\n",
      "torch.Size([256, 1])\n",
      "torch.Size([256, 1])\n",
      "torch.Size([256, 1])\n",
      "torch.Size([256, 1])\n",
      "torch.Size([256, 1])\n",
      "torch.Size([256, 1])\n",
      "torch.Size([256, 1])\n",
      "torch.Size([256, 1])\n",
      "torch.Size([256, 1])\n",
      "torch.Size([256, 1])\n",
      "torch.Size([256, 1])\n",
      "torch.Size([256, 1])\n",
      "torch.Size([256, 1])\n",
      "torch.Size([256, 1])\n",
      "torch.Size([256, 1])\n",
      "torch.Size([256, 1])\n",
      "torch.Size([256, 1])\n",
      "torch.Size([256, 1])\n",
      "torch.Size([256, 1])\n",
      "torch.Size([256, 1])\n",
      "torch.Size([256, 1])\n",
      "torch.Size([256, 1])\n",
      "torch.Size([256, 1])\n",
      "torch.Size([256, 1])\n",
      "torch.Size([256, 1])\n",
      "torch.Size([256, 1])\n",
      "torch.Size([256, 1])\n",
      "torch.Size([256, 1])\n",
      "torch.Size([256, 1])\n",
      "torch.Size([256, 1])\n",
      "torch.Size([256, 1])\n",
      "torch.Size([256, 1])\n",
      "torch.Size([256, 1])\n",
      "torch.Size([256, 1])\n",
      "torch.Size([256, 1])\n",
      "torch.Size([256, 1])\n",
      "torch.Size([256, 1])\n",
      "torch.Size([256, 1])\n",
      "torch.Size([256, 1])\n",
      "torch.Size([256, 1])\n",
      "torch.Size([256, 1])\n",
      "torch.Size([256, 1])\n",
      "torch.Size([256, 1])\n",
      "torch.Size([256, 1])\n",
      "torch.Size([256, 1])\n",
      "torch.Size([256, 1])\n",
      "torch.Size([256, 1])\n",
      "torch.Size([256, 1])\n",
      "torch.Size([256, 1])\n",
      "torch.Size([256, 1])\n",
      "torch.Size([256, 1])\n",
      "torch.Size([256, 1])\n",
      "torch.Size([256, 1])\n",
      "torch.Size([256, 1])\n",
      "torch.Size([256, 1])\n",
      "torch.Size([256, 1])\n",
      "torch.Size([256, 1])\n",
      "torch.Size([256, 1])\n",
      "torch.Size([256, 1])\n",
      "torch.Size([256, 1])\n",
      "torch.Size([256, 1])\n",
      "torch.Size([256, 1])\n",
      "torch.Size([256, 1])\n",
      "torch.Size([256, 1])\n",
      "torch.Size([256, 1])\n",
      "torch.Size([256, 1])\n",
      "torch.Size([256, 1])\n",
      "torch.Size([256, 1])\n",
      "torch.Size([256, 1])\n",
      "torch.Size([256, 1])\n",
      "torch.Size([256, 1])\n",
      "torch.Size([256, 1])\n",
      "torch.Size([256, 1])\n",
      "torch.Size([256, 1])\n",
      "torch.Size([256, 1])\n",
      "torch.Size([256, 1])\n",
      "torch.Size([256, 1])\n",
      "torch.Size([256, 1])\n",
      "torch.Size([256, 1])\n",
      "torch.Size([256, 1])\n",
      "torch.Size([256, 1])\n",
      "torch.Size([256, 1])\n",
      "torch.Size([256, 1])\n",
      "torch.Size([256, 1])\n",
      "torch.Size([256, 1])\n",
      "torch.Size([256, 1])\n",
      "torch.Size([256, 1])\n",
      "torch.Size([256, 1])\n",
      "torch.Size([256, 1])\n",
      "torch.Size([256, 1])\n",
      "torch.Size([256, 1])\n",
      "torch.Size([256, 1])\n",
      "torch.Size([256, 1])\n",
      "torch.Size([256, 1])\n",
      "torch.Size([256, 1])\n",
      "torch.Size([256, 1])\n",
      "torch.Size([256, 1])\n",
      "torch.Size([256, 1])\n",
      "torch.Size([256, 1])\n",
      "torch.Size([256, 1])\n",
      "torch.Size([256, 1])\n",
      "torch.Size([256, 1])\n",
      "torch.Size([256, 1])\n",
      "torch.Size([256, 1])\n",
      "torch.Size([256, 1])\n",
      "torch.Size([256, 1])\n",
      "torch.Size([256, 1])\n",
      "torch.Size([256, 1])\n",
      "torch.Size([256, 1])\n",
      "torch.Size([256, 1])\n",
      "torch.Size([256, 1])\n",
      "torch.Size([256, 1])\n",
      "torch.Size([256, 1])\n",
      "torch.Size([256, 1])\n",
      "torch.Size([256, 1])\n",
      "torch.Size([256, 1])\n",
      "torch.Size([256, 1])\n",
      "torch.Size([256, 1])\n",
      "torch.Size([256, 1])\n",
      "torch.Size([256, 1])\n",
      "torch.Size([256, 1])\n",
      "torch.Size([256, 1])\n",
      "torch.Size([256, 1])\n",
      "torch.Size([256, 1])\n",
      "torch.Size([256, 1])\n",
      "torch.Size([256, 1])\n",
      "torch.Size([256, 1])\n",
      "torch.Size([256, 1])\n",
      "torch.Size([256, 1])\n",
      "torch.Size([256, 1])\n",
      "torch.Size([256, 1])\n",
      "torch.Size([256, 1])\n",
      "torch.Size([256, 1])\n",
      "torch.Size([256, 1])\n",
      "torch.Size([256, 1])\n",
      "torch.Size([256, 1])\n",
      "torch.Size([256, 1])\n",
      "torch.Size([256, 1])\n",
      "torch.Size([256, 1])\n",
      "torch.Size([256, 1])\n",
      "torch.Size([256, 1])\n",
      "torch.Size([256, 1])\n",
      "torch.Size([256, 1])\n",
      "torch.Size([256, 1])\n",
      "torch.Size([256, 1])\n",
      "torch.Size([256, 1])\n",
      "torch.Size([256, 1])\n",
      "torch.Size([256, 1])\n",
      "torch.Size([256, 1])\n",
      "torch.Size([256, 1])\n",
      "torch.Size([256, 1])\n",
      "torch.Size([256, 1])\n",
      "torch.Size([256, 1])\n",
      "torch.Size([256, 1])\n",
      "torch.Size([256, 1])\n",
      "torch.Size([256, 1])\n",
      "torch.Size([256, 1])\n",
      "torch.Size([256, 1])\n",
      "torch.Size([256, 1])\n",
      "torch.Size([256, 1])\n",
      "torch.Size([256, 1])\n",
      "torch.Size([256, 1])\n",
      "torch.Size([256, 1])\n",
      "torch.Size([256, 1])\n",
      "torch.Size([256, 1])\n",
      "torch.Size([256, 1])\n",
      "torch.Size([256, 1])\n",
      "torch.Size([256, 1])\n",
      "torch.Size([256, 1])\n",
      "torch.Size([256, 1])\n",
      "torch.Size([256, 1])\n",
      "torch.Size([256, 1])\n",
      "torch.Size([256, 1])\n",
      "torch.Size([256, 1])\n",
      "torch.Size([256, 1])\n",
      "torch.Size([256, 1])\n",
      "torch.Size([256, 1])\n",
      "torch.Size([256, 1])\n",
      "torch.Size([256, 1])\n",
      "torch.Size([256, 1])\n",
      "torch.Size([256, 1])\n",
      "torch.Size([256, 1])\n",
      "torch.Size([256, 1])\n",
      "torch.Size([256, 1])\n",
      "torch.Size([256, 1])\n",
      "torch.Size([256, 1])\n",
      "torch.Size([256, 1])\n",
      "torch.Size([256, 1])\n",
      "torch.Size([256, 1])\n",
      "torch.Size([256, 1])\n",
      "torch.Size([256, 1])\n",
      "torch.Size([256, 1])\n",
      "torch.Size([256, 1])\n",
      "torch.Size([256, 1])\n",
      "torch.Size([256, 1])\n",
      "torch.Size([256, 1])\n",
      "torch.Size([256, 1])\n",
      "torch.Size([256, 1])\n",
      "torch.Size([256, 1])\n",
      "torch.Size([256, 1])\n",
      "torch.Size([256, 1])\n",
      "torch.Size([256, 1])\n",
      "torch.Size([256, 1])\n",
      "torch.Size([256, 1])\n",
      "torch.Size([256, 1])\n",
      "torch.Size([256, 1])\n",
      "torch.Size([256, 1])\n",
      "torch.Size([256, 1])\n",
      "torch.Size([256, 1])\n",
      "torch.Size([256, 1])\n",
      "torch.Size([256, 1])\n",
      "torch.Size([256, 1])\n",
      "torch.Size([256, 1])\n",
      "torch.Size([256, 1])\n",
      "torch.Size([256, 1])\n",
      "torch.Size([256, 1])\n",
      "torch.Size([256, 1])\n",
      "torch.Size([256, 1])\n",
      "torch.Size([256, 1])\n",
      "torch.Size([256, 1])\n",
      "torch.Size([256, 1])\n",
      "torch.Size([256, 1])\n",
      "torch.Size([256, 1])\n",
      "torch.Size([256, 1])\n",
      "torch.Size([256, 1])\n",
      "torch.Size([256, 1])\n",
      "torch.Size([256, 1])\n",
      "torch.Size([256, 1])\n",
      "torch.Size([256, 1])\n",
      "torch.Size([256, 1])\n",
      "torch.Size([256, 1])\n",
      "torch.Size([256, 1])\n",
      "torch.Size([256, 1])\n",
      "torch.Size([256, 1])\n",
      "torch.Size([256, 1])\n",
      "torch.Size([256, 1])\n",
      "torch.Size([256, 1])\n",
      "torch.Size([256, 1])\n",
      "torch.Size([256, 1])\n",
      "torch.Size([256, 1])\n",
      "torch.Size([256, 1])\n",
      "torch.Size([256, 1])\n",
      "torch.Size([256, 1])\n",
      "torch.Size([256, 1])\n",
      "torch.Size([256, 1])\n",
      "torch.Size([256, 1])\n",
      "torch.Size([256, 1])\n",
      "torch.Size([256, 1])\n",
      "torch.Size([256, 1])\n",
      "torch.Size([256, 1])\n",
      "torch.Size([256, 1])\n",
      "torch.Size([256, 1])\n",
      "torch.Size([256, 1])\n",
      "torch.Size([256, 1])\n",
      "torch.Size([256, 1])\n",
      "torch.Size([256, 1])\n",
      "torch.Size([256, 1])\n",
      "torch.Size([256, 1])\n",
      "torch.Size([256, 1])\n",
      "torch.Size([256, 1])\n",
      "torch.Size([256, 1])\n",
      "torch.Size([256, 1])\n",
      "torch.Size([256, 1])\n",
      "torch.Size([256, 1])\n",
      "torch.Size([256, 1])\n",
      "torch.Size([256, 1])\n",
      "torch.Size([256, 1])\n",
      "torch.Size([256, 1])\n",
      "torch.Size([256, 1])\n",
      "torch.Size([256, 1])\n",
      "torch.Size([256, 1])\n",
      "torch.Size([256, 1])\n",
      "torch.Size([256, 1])\n",
      "torch.Size([256, 1])\n",
      "torch.Size([256, 1])\n",
      "torch.Size([256, 1])\n",
      "torch.Size([256, 1])\n",
      "torch.Size([256, 1])\n",
      "torch.Size([256, 1])\n",
      "torch.Size([256, 1])\n",
      "torch.Size([256, 1])\n",
      "torch.Size([256, 1])\n",
      "torch.Size([256, 1])\n",
      "torch.Size([256, 1])\n",
      "torch.Size([256, 1])\n",
      "torch.Size([256, 1])\n",
      "torch.Size([256, 1])\n",
      "torch.Size([256, 1])\n",
      "torch.Size([256, 1])\n",
      "torch.Size([256, 1])\n",
      "torch.Size([256, 1])\n",
      "torch.Size([256, 1])\n",
      "torch.Size([256, 1])\n",
      "torch.Size([256, 1])\n",
      "torch.Size([256, 1])\n",
      "torch.Size([256, 1])\n",
      "torch.Size([256, 1])\n",
      "torch.Size([256, 1])\n",
      "torch.Size([256, 1])\n",
      "torch.Size([256, 1])\n",
      "torch.Size([256, 1])\n",
      "torch.Size([256, 1])\n",
      "torch.Size([256, 1])\n",
      "torch.Size([256, 1])\n",
      "torch.Size([256, 1])\n",
      "torch.Size([256, 1])\n",
      "torch.Size([256, 1])\n",
      "torch.Size([256, 1])\n",
      "torch.Size([256, 1])\n",
      "torch.Size([256, 1])\n",
      "torch.Size([256, 1])\n",
      "torch.Size([256, 1])\n",
      "torch.Size([256, 1])\n",
      "torch.Size([256, 1])\n",
      "torch.Size([256, 1])\n",
      "torch.Size([256, 1])\n",
      "torch.Size([256, 1])\n",
      "torch.Size([256, 1])\n",
      "torch.Size([256, 1])\n",
      "torch.Size([256, 1])\n",
      "torch.Size([256, 1])\n",
      "torch.Size([256, 1])\n",
      "torch.Size([256, 1])\n",
      "torch.Size([256, 1])\n",
      "torch.Size([256, 1])\n",
      "torch.Size([256, 1])\n",
      "torch.Size([256, 1])\n",
      "torch.Size([256, 1])\n",
      "torch.Size([256, 1])\n",
      "torch.Size([256, 1])\n",
      "torch.Size([256, 1])\n",
      "torch.Size([256, 1])\n",
      "torch.Size([256, 1])\n",
      "torch.Size([256, 1])\n",
      "torch.Size([256, 1])\n",
      "torch.Size([256, 1])\n",
      "torch.Size([256, 1])\n",
      "torch.Size([256, 1])\n",
      "torch.Size([256, 1])\n",
      "torch.Size([256, 1])\n",
      "torch.Size([256, 1])\n",
      "torch.Size([256, 1])\n",
      "torch.Size([256, 1])\n",
      "torch.Size([256, 1])\n",
      "torch.Size([256, 1])\n",
      "torch.Size([256, 1])\n",
      "torch.Size([256, 1])\n",
      "torch.Size([256, 1])\n",
      "torch.Size([256, 1])\n",
      "torch.Size([256, 1])\n",
      "torch.Size([256, 1])\n",
      "torch.Size([256, 1])\n",
      "torch.Size([256, 1])\n",
      "torch.Size([256, 1])\n",
      "torch.Size([256, 1])\n",
      "torch.Size([256, 1])\n",
      "torch.Size([256, 1])\n",
      "torch.Size([256, 1])\n",
      "torch.Size([256, 1])\n",
      "torch.Size([256, 1])\n",
      "torch.Size([256, 1])\n",
      "torch.Size([256, 1])\n",
      "torch.Size([256, 1])\n",
      "torch.Size([256, 1])\n",
      "torch.Size([256, 1])\n",
      "torch.Size([256, 1])\n",
      "torch.Size([256, 1])\n",
      "torch.Size([256, 1])\n",
      "torch.Size([256, 1])\n",
      "torch.Size([256, 1])\n",
      "torch.Size([256, 1])\n",
      "torch.Size([256, 1])\n",
      "torch.Size([256, 1])\n",
      "torch.Size([256, 1])\n",
      "torch.Size([256, 1])\n",
      "torch.Size([256, 1])\n",
      "torch.Size([256, 1])\n",
      "torch.Size([256, 1])\n",
      "torch.Size([256, 1])\n",
      "torch.Size([256, 1])\n",
      "torch.Size([256, 1])\n",
      "torch.Size([256, 1])\n",
      "torch.Size([256, 1])\n",
      "torch.Size([256, 1])\n",
      "torch.Size([256, 1])\n",
      "torch.Size([256, 1])\n",
      "torch.Size([256, 1])\n",
      "torch.Size([256, 1])\n",
      "torch.Size([256, 1])\n",
      "torch.Size([256, 1])\n",
      "torch.Size([256, 1])\n",
      "torch.Size([256, 1])\n",
      "torch.Size([256, 1])\n",
      "torch.Size([256, 1])\n",
      "torch.Size([256, 1])\n",
      "torch.Size([256, 1])\n",
      "torch.Size([256, 1])\n",
      "torch.Size([256, 1])\n",
      "torch.Size([256, 1])\n",
      "torch.Size([256, 1])\n",
      "torch.Size([256, 1])\n",
      "torch.Size([256, 1])\n",
      "torch.Size([256, 1])\n",
      "torch.Size([256, 1])\n",
      "torch.Size([256, 1])\n",
      "torch.Size([256, 1])\n",
      "torch.Size([256, 1])\n",
      "torch.Size([256, 1])\n",
      "torch.Size([256, 1])\n",
      "torch.Size([256, 1])\n",
      "torch.Size([256, 1])\n",
      "torch.Size([256, 1])\n",
      "torch.Size([256, 1])\n",
      "torch.Size([256, 1])\n",
      "torch.Size([256, 1])\n",
      "torch.Size([256, 1])\n",
      "torch.Size([256, 1])\n",
      "torch.Size([256, 1])\n",
      "torch.Size([256, 1])\n",
      "torch.Size([256, 1])\n",
      "torch.Size([256, 1])\n",
      "torch.Size([256, 1])\n",
      "torch.Size([256, 1])\n",
      "torch.Size([256, 1])\n",
      "torch.Size([256, 1])\n",
      "torch.Size([256, 1])\n",
      "torch.Size([256, 1])\n",
      "torch.Size([256, 1])\n",
      "torch.Size([256, 1])\n",
      "torch.Size([256, 1])\n",
      "torch.Size([256, 1])\n",
      "torch.Size([256, 1])\n",
      "torch.Size([256, 1])\n",
      "torch.Size([256, 1])\n",
      "torch.Size([256, 1])\n",
      "torch.Size([256, 1])\n",
      "torch.Size([256, 1])\n",
      "torch.Size([256, 1])\n",
      "torch.Size([256, 1])\n",
      "torch.Size([256, 1])\n",
      "torch.Size([256, 1])\n",
      "torch.Size([256, 1])\n",
      "torch.Size([256, 1])\n",
      "torch.Size([256, 1])\n",
      "torch.Size([256, 1])\n",
      "torch.Size([256, 1])\n",
      "torch.Size([256, 1])\n",
      "torch.Size([256, 1])\n",
      "torch.Size([256, 1])\n",
      "torch.Size([256, 1])\n",
      "torch.Size([256, 1])\n",
      "torch.Size([256, 1])\n",
      "torch.Size([256, 1])\n",
      "torch.Size([256, 1])\n",
      "torch.Size([256, 1])\n",
      "torch.Size([256, 1])\n",
      "torch.Size([256, 1])\n",
      "torch.Size([256, 1])\n",
      "torch.Size([256, 1])\n",
      "torch.Size([256, 1])\n",
      "torch.Size([256, 1])\n",
      "torch.Size([256, 1])\n",
      "torch.Size([256, 1])\n",
      "torch.Size([256, 1])\n",
      "torch.Size([256, 1])\n",
      "torch.Size([256, 1])\n",
      "torch.Size([256, 1])\n",
      "torch.Size([256, 1])\n",
      "torch.Size([256, 1])\n",
      "torch.Size([256, 1])\n",
      "torch.Size([256, 1])\n",
      "torch.Size([256, 1])\n",
      "torch.Size([256, 1])\n",
      "torch.Size([256, 1])\n",
      "torch.Size([256, 1])\n",
      "torch.Size([256, 1])\n",
      "torch.Size([256, 1])\n",
      "torch.Size([256, 1])\n",
      "torch.Size([256, 1])\n",
      "torch.Size([256, 1])\n",
      "torch.Size([256, 1])\n",
      "torch.Size([256, 1])\n",
      "torch.Size([256, 1])\n",
      "torch.Size([256, 1])\n",
      "torch.Size([256, 1])\n",
      "torch.Size([256, 1])\n",
      "torch.Size([256, 1])\n",
      "torch.Size([256, 1])\n",
      "torch.Size([256, 1])\n",
      "torch.Size([256, 1])\n",
      "torch.Size([256, 1])\n",
      "torch.Size([256, 1])\n",
      "torch.Size([256, 1])\n",
      "torch.Size([256, 1])\n",
      "torch.Size([256, 1])\n",
      "torch.Size([256, 1])\n",
      "torch.Size([256, 1])\n",
      "torch.Size([256, 1])\n",
      "torch.Size([256, 1])\n",
      "torch.Size([256, 1])\n",
      "torch.Size([256, 1])\n",
      "torch.Size([256, 1])\n",
      "torch.Size([256, 1])\n",
      "torch.Size([256, 1])\n",
      "torch.Size([256, 1])\n",
      "torch.Size([256, 1])\n",
      "torch.Size([256, 1])\n",
      "torch.Size([256, 1])\n",
      "torch.Size([256, 1])\n",
      "torch.Size([256, 1])\n",
      "torch.Size([256, 1])\n",
      "torch.Size([256, 1])\n",
      "torch.Size([256, 1])\n",
      "torch.Size([256, 1])\n",
      "torch.Size([256, 1])\n",
      "torch.Size([256, 1])\n",
      "torch.Size([256, 1])\n",
      "torch.Size([256, 1])\n",
      "torch.Size([256, 1])\n",
      "torch.Size([256, 1])\n",
      "torch.Size([256, 1])\n",
      "torch.Size([256, 1])\n",
      "torch.Size([256, 1])\n",
      "torch.Size([256, 1])\n",
      "torch.Size([256, 1])\n",
      "torch.Size([256, 1])\n",
      "torch.Size([256, 1])\n",
      "torch.Size([256, 1])\n",
      "torch.Size([256, 1])\n",
      "torch.Size([256, 1])\n",
      "torch.Size([256, 1])\n",
      "torch.Size([256, 1])\n",
      "torch.Size([256, 1])\n",
      "torch.Size([256, 1])\n",
      "torch.Size([256, 1])\n",
      "torch.Size([256, 1])\n",
      "torch.Size([256, 1])\n",
      "torch.Size([256, 1])\n",
      "torch.Size([256, 1])\n",
      "torch.Size([256, 1])\n",
      "torch.Size([256, 1])\n",
      "torch.Size([256, 1])\n",
      "torch.Size([256, 1])\n",
      "torch.Size([256, 1])\n",
      "torch.Size([256, 1])\n",
      "torch.Size([256, 1])\n",
      "torch.Size([256, 1])\n",
      "torch.Size([256, 1])\n",
      "torch.Size([256, 1])\n",
      "torch.Size([256, 1])\n",
      "torch.Size([256, 1])\n",
      "torch.Size([256, 1])\n",
      "torch.Size([256, 1])\n",
      "torch.Size([256, 1])\n",
      "torch.Size([256, 1])\n",
      "torch.Size([256, 1])\n",
      "torch.Size([256, 1])\n",
      "torch.Size([256, 1])\n",
      "torch.Size([256, 1])\n",
      "torch.Size([256, 1])\n",
      "torch.Size([256, 1])\n",
      "torch.Size([256, 1])\n",
      "torch.Size([256, 1])\n",
      "torch.Size([256, 1])\n",
      "torch.Size([256, 1])\n",
      "torch.Size([256, 1])\n",
      "torch.Size([256, 1])\n",
      "torch.Size([256, 1])\n",
      "torch.Size([256, 1])\n",
      "torch.Size([256, 1])\n",
      "torch.Size([256, 1])\n",
      "torch.Size([256, 1])\n",
      "torch.Size([256, 1])\n",
      "torch.Size([256, 1])\n",
      "torch.Size([256, 1])\n",
      "torch.Size([256, 1])\n",
      "torch.Size([256, 1])\n",
      "torch.Size([256, 1])\n",
      "torch.Size([256, 1])\n",
      "torch.Size([256, 1])\n",
      "torch.Size([256, 1])\n",
      "torch.Size([256, 1])\n",
      "torch.Size([256, 1])\n",
      "torch.Size([256, 1])\n",
      "torch.Size([256, 1])\n",
      "torch.Size([256, 1])\n",
      "torch.Size([256, 1])\n",
      "torch.Size([256, 1])\n",
      "torch.Size([256, 1])\n",
      "torch.Size([256, 1])\n",
      "torch.Size([256, 1])\n",
      "torch.Size([256, 1])\n",
      "torch.Size([256, 1])\n",
      "torch.Size([256, 1])\n",
      "torch.Size([256, 1])\n",
      "torch.Size([256, 1])\n",
      "torch.Size([256, 1])\n",
      "torch.Size([256, 1])\n",
      "torch.Size([256, 1])\n",
      "torch.Size([256, 1])\n",
      "torch.Size([256, 1])\n",
      "torch.Size([256, 1])\n",
      "torch.Size([256, 1])\n",
      "torch.Size([256, 1])\n",
      "torch.Size([256, 1])\n",
      "torch.Size([256, 1])\n",
      "torch.Size([256, 1])\n",
      "torch.Size([256, 1])\n",
      "torch.Size([256, 1])\n",
      "torch.Size([256, 1])\n",
      "torch.Size([256, 1])\n",
      "torch.Size([256, 1])\n",
      "torch.Size([256, 1])\n",
      "torch.Size([256, 1])\n",
      "torch.Size([256, 1])\n",
      "torch.Size([256, 1])\n",
      "torch.Size([256, 1])\n",
      "torch.Size([256, 1])\n",
      "torch.Size([256, 1])\n",
      "torch.Size([256, 1])\n",
      "torch.Size([256, 1])\n",
      "torch.Size([256, 1])\n",
      "torch.Size([256, 1])\n",
      "torch.Size([256, 1])\n",
      "torch.Size([256, 1])\n",
      "torch.Size([256, 1])\n",
      "torch.Size([256, 1])\n",
      "torch.Size([256, 1])\n",
      "torch.Size([256, 1])\n",
      "torch.Size([256, 1])\n",
      "torch.Size([256, 1])\n",
      "torch.Size([256, 1])\n",
      "torch.Size([256, 1])\n",
      "torch.Size([256, 1])\n",
      "torch.Size([256, 1])\n",
      "torch.Size([256, 1])\n",
      "torch.Size([256, 1])\n",
      "torch.Size([256, 1])\n",
      "torch.Size([256, 1])\n",
      "torch.Size([256, 1])\n",
      "torch.Size([256, 1])\n",
      "torch.Size([256, 1])\n",
      "torch.Size([256, 1])\n",
      "torch.Size([256, 1])\n",
      "torch.Size([256, 1])\n",
      "torch.Size([256, 1])\n",
      "torch.Size([256, 1])\n",
      "torch.Size([256, 1])\n",
      "torch.Size([256, 1])\n",
      "torch.Size([256, 1])\n",
      "torch.Size([256, 1])\n",
      "torch.Size([256, 1])\n",
      "torch.Size([256, 1])\n",
      "torch.Size([256, 1])\n",
      "torch.Size([256, 1])\n",
      "torch.Size([256, 1])\n",
      "torch.Size([256, 1])\n",
      "torch.Size([256, 1])\n",
      "torch.Size([256, 1])\n",
      "torch.Size([256, 1])\n",
      "torch.Size([256, 1])\n",
      "torch.Size([256, 1])\n",
      "torch.Size([256, 1])\n",
      "torch.Size([256, 1])\n",
      "torch.Size([256, 1])\n",
      "torch.Size([256, 1])\n",
      "torch.Size([256, 1])\n",
      "torch.Size([256, 1])\n",
      "torch.Size([256, 1])\n",
      "torch.Size([256, 1])\n",
      "torch.Size([256, 1])\n",
      "torch.Size([256, 1])\n",
      "torch.Size([256, 1])\n",
      "torch.Size([256, 1])\n",
      "torch.Size([256, 1])\n",
      "torch.Size([256, 1])\n",
      "torch.Size([256, 1])\n",
      "torch.Size([256, 1])\n",
      "torch.Size([256, 1])\n",
      "torch.Size([256, 1])\n",
      "torch.Size([256, 1])\n",
      "torch.Size([256, 1])\n",
      "torch.Size([256, 1])\n",
      "torch.Size([256, 1])\n",
      "torch.Size([256, 1])\n",
      "torch.Size([256, 1])\n",
      "torch.Size([256, 1])\n",
      "torch.Size([256, 1])\n",
      "torch.Size([256, 1])\n",
      "torch.Size([256, 1])\n",
      "torch.Size([256, 1])\n",
      "torch.Size([256, 1])\n",
      "torch.Size([256, 1])\n",
      "torch.Size([256, 1])\n",
      "torch.Size([256, 1])\n",
      "torch.Size([256, 1])\n",
      "torch.Size([256, 1])\n",
      "torch.Size([256, 1])\n",
      "torch.Size([256, 1])\n",
      "torch.Size([256, 1])\n",
      "torch.Size([256, 1])\n",
      "torch.Size([256, 1])\n",
      "torch.Size([256, 1])\n",
      "torch.Size([256, 1])\n",
      "torch.Size([256, 1])\n",
      "torch.Size([256, 1])\n",
      "torch.Size([256, 1])\n",
      "torch.Size([256, 1])\n",
      "torch.Size([256, 1])\n",
      "torch.Size([256, 1])\n",
      "torch.Size([256, 1])\n",
      "torch.Size([256, 1])\n",
      "torch.Size([256, 1])\n",
      "torch.Size([256, 1])\n",
      "torch.Size([256, 1])\n",
      "torch.Size([256, 1])\n",
      "torch.Size([256, 1])\n",
      "torch.Size([256, 1])\n",
      "torch.Size([256, 1])\n",
      "torch.Size([256, 1])\n",
      "torch.Size([256, 1])\n",
      "torch.Size([256, 1])\n",
      "torch.Size([256, 1])\n",
      "torch.Size([256, 1])\n",
      "torch.Size([256, 1])\n",
      "torch.Size([256, 1])\n",
      "torch.Size([256, 1])\n",
      "torch.Size([256, 1])\n",
      "torch.Size([256, 1])\n",
      "torch.Size([256, 1])\n",
      "torch.Size([256, 1])\n",
      "torch.Size([256, 1])\n",
      "torch.Size([256, 1])\n",
      "torch.Size([256, 1])\n",
      "torch.Size([256, 1])\n",
      "torch.Size([256, 1])\n",
      "torch.Size([256, 1])\n",
      "torch.Size([256, 1])\n",
      "torch.Size([256, 1])\n",
      "torch.Size([256, 1])\n",
      "torch.Size([256, 1])\n",
      "torch.Size([256, 1])\n",
      "torch.Size([256, 1])\n",
      "torch.Size([256, 1])\n",
      "torch.Size([256, 1])\n",
      "torch.Size([256, 1])\n",
      "torch.Size([256, 1])\n",
      "torch.Size([256, 1])\n",
      "torch.Size([256, 1])\n",
      "torch.Size([256, 1])\n",
      "torch.Size([256, 1])\n",
      "torch.Size([256, 1])\n",
      "torch.Size([256, 1])\n",
      "torch.Size([256, 1])\n",
      "torch.Size([256, 1])\n",
      "torch.Size([256, 1])\n",
      "torch.Size([256, 1])\n",
      "torch.Size([256, 1])\n",
      "torch.Size([256, 1])\n",
      "torch.Size([256, 1])\n",
      "torch.Size([256, 1])\n",
      "torch.Size([256, 1])\n",
      "torch.Size([256, 1])\n",
      "torch.Size([256, 1])\n",
      "torch.Size([256, 1])\n",
      "torch.Size([256, 1])\n",
      "torch.Size([256, 1])\n",
      "torch.Size([256, 1])\n",
      "torch.Size([256, 1])\n",
      "torch.Size([256, 1])\n",
      "torch.Size([256, 1])\n",
      "torch.Size([256, 1])\n",
      "torch.Size([256, 1])\n",
      "torch.Size([256, 1])\n",
      "torch.Size([256, 1])\n",
      "torch.Size([256, 1])\n",
      "torch.Size([256, 1])\n",
      "torch.Size([256, 1])\n",
      "torch.Size([256, 1])\n",
      "torch.Size([256, 1])\n",
      "torch.Size([256, 1])\n",
      "torch.Size([256, 1])\n",
      "torch.Size([256, 1])\n",
      "torch.Size([256, 1])\n",
      "torch.Size([256, 1])\n",
      "torch.Size([256, 1])\n",
      "torch.Size([256, 1])\n",
      "torch.Size([256, 1])\n",
      "torch.Size([256, 1])\n",
      "torch.Size([256, 1])\n",
      "torch.Size([256, 1])\n",
      "torch.Size([256, 1])\n",
      "torch.Size([256, 1])\n",
      "torch.Size([256, 1])\n",
      "torch.Size([256, 1])\n",
      "torch.Size([256, 1])\n",
      "torch.Size([256, 1])\n",
      "torch.Size([256, 1])\n",
      "torch.Size([256, 1])\n",
      "torch.Size([256, 1])\n",
      "torch.Size([256, 1])\n",
      "torch.Size([256, 1])\n",
      "torch.Size([256, 1])\n",
      "torch.Size([256, 1])\n",
      "torch.Size([256, 1])\n",
      "torch.Size([256, 1])\n",
      "torch.Size([256, 1])\n",
      "torch.Size([256, 1])\n",
      "torch.Size([256, 1])\n",
      "torch.Size([256, 1])\n",
      "torch.Size([256, 1])\n",
      "torch.Size([256, 1])\n",
      "torch.Size([256, 1])\n",
      "torch.Size([256, 1])\n",
      "torch.Size([256, 1])\n",
      "torch.Size([256, 1])\n",
      "torch.Size([256, 1])\n",
      "torch.Size([256, 1])\n",
      "torch.Size([256, 1])\n",
      "torch.Size([256, 1])\n",
      "torch.Size([256, 1])\n",
      "torch.Size([256, 1])\n",
      "torch.Size([256, 1])\n",
      "torch.Size([256, 1])\n",
      "torch.Size([256, 1])\n",
      "torch.Size([256, 1])\n",
      "torch.Size([256, 1])\n",
      "torch.Size([256, 1])\n",
      "torch.Size([256, 1])\n",
      "torch.Size([256, 1])\n",
      "torch.Size([256, 1])\n",
      "torch.Size([256, 1])\n",
      "torch.Size([256, 1])\n",
      "torch.Size([256, 1])\n",
      "torch.Size([256, 1])\n",
      "torch.Size([256, 1])\n",
      "torch.Size([256, 1])\n",
      "torch.Size([256, 1])\n",
      "torch.Size([256, 1])\n",
      "torch.Size([256, 1])\n",
      "torch.Size([256, 1])\n",
      "torch.Size([256, 1])\n",
      "torch.Size([256, 1])\n",
      "torch.Size([256, 1])\n",
      "torch.Size([256, 1])\n",
      "torch.Size([256, 1])\n",
      "torch.Size([256, 1])\n",
      "torch.Size([256, 1])\n",
      "torch.Size([256, 1])\n",
      "torch.Size([256, 1])\n",
      "torch.Size([256, 1])\n",
      "torch.Size([256, 1])\n",
      "torch.Size([256, 1])\n",
      "torch.Size([256, 1])\n",
      "torch.Size([256, 1])\n",
      "torch.Size([256, 1])\n",
      "torch.Size([256, 1])\n",
      "torch.Size([256, 1])\n",
      "torch.Size([256, 1])\n",
      "torch.Size([256, 1])\n",
      "torch.Size([256, 1])\n",
      "torch.Size([256, 1])\n",
      "torch.Size([256, 1])\n",
      "torch.Size([256, 1])\n",
      "torch.Size([256, 1])\n",
      "torch.Size([256, 1])\n",
      "torch.Size([256, 1])\n",
      "torch.Size([256, 1])\n",
      "torch.Size([256, 1])\n",
      "torch.Size([256, 1])\n",
      "torch.Size([256, 1])\n",
      "torch.Size([256, 1])\n",
      "torch.Size([256, 1])\n",
      "torch.Size([256, 1])\n",
      "torch.Size([256, 1])\n",
      "torch.Size([256, 1])\n",
      "torch.Size([256, 1])\n",
      "torch.Size([256, 1])\n",
      "torch.Size([256, 1])\n",
      "torch.Size([256, 1])\n",
      "torch.Size([256, 1])\n",
      "torch.Size([256, 1])\n",
      "torch.Size([111, 1])\n",
      "249455\n",
      "0.7178919226561832\n"
     ]
    },
    {
     "data": {
      "image/png": "[encoded data removed]",
      "text/plain": [
       "<Figure size 640x480 with 1 Axes>"
      ]
     },
     "metadata": {},
     "output_type": "display_data"
    }
   ],
   "source": [
    "df = pd.read_csv(\"https://raw.githubusercontent.com/aspuru-guzik-group/chemical_vae/master/models/zinc_properties/250k_rndm_zinc_drugs_clean_3.csv\")\n",
    "X, y = df[\"smiles\"].values, df[[\"qed\"]].values\n",
    "y_binary = (y >= 0.8).astype(np.float32)\n",
    "\n",
    "data_set = MolData_Binary(\n",
    "    X, torch.tensor(y, dtype=torch.float32),\n",
    ")\n",
    "\n",
    "batch_size = 256\n",
    "num_workers = 0\n",
    "data_loader = DataLoader(\n",
    "    data_set, batch_size=batch_size, shuffle=False, num_workers=num_workers,\n",
    ")\n",
    "\n",
    "model = MoleculeModel.load_from_checkpoint(checkpoint_path=\"property_model/with_empty_edge/1feat_binary_class/epoch=37-step=3800.ckpt\")\n",
    "model = model.to(DEVICE)\n",
    "\n",
    "# For inference\n",
    "model.eval()    \n",
    "\n",
    "model_outputs = []  # List to store outputs\n",
    "\n",
    "from tqdm.notebook import tqdm\n",
    "import sys\n",
    "\n",
    "for batch in tqdm(data_loader):\n",
    "    batch = batch.to(DEVICE)\n",
    "    out = model(batch)\n",
    "    print(out[0].shape)\n",
    "    sys.stdout.flush()\n",
    "    model_outputs.extend(out[0].flatten().tolist())\n",
    "\n",
    "\n",
    "# model_outputs = np.array(model_outputs) * std_ + mean_\n",
    "print(len(model_outputs))\n",
    "\n",
    "from sklearn.metrics import r2_score, average_precision_score\n",
    "\n",
    "auprc = average_precision_score(y_binary, model_outputs)\n",
    "print(auprc)\n",
    "\n",
    "# Plotting histogram of model outputs\n",
    "\n",
    "plt.hist(model_outputs, bins=50, alpha=0.5, label='predict')\n",
    "plt.hist(y_binary, bins=50, alpha=0.5, label='target')\n",
    "\n",
    "plt.title('Histogram of Model Outputs vs. Labels')\n",
    "plt.xlabel('Value')\n",
    "plt.ylabel('Frequency')\n",
    "# Display AUPRC score in the legend or title if needed\n",
    "plt.legend(title=f'AUPRC: {auprc:.2f}')\n",
    "plt.show()\n"
   ]
  }
 ],
 "metadata": {
  "kernelspec": {
   "display_name": "mol",
   "language": "python",
   "name": "python3"
  },
  "language_info": {
   "codemirror_mode": {
    "name": "ipython",
    "version": 3
   },
   "file_extension": ".py",
   "mimetype": "text/x-python",
   "name": "python",
   "nbconvert_exporter": "python",
   "pygments_lexer": "ipython3",
   "version": "3.10.13"
  }
 },
 "nbformat": 4,
 "nbformat_minor": 5
}
